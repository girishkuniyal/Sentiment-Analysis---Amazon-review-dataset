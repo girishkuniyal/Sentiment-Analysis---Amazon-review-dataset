{
  "nbformat": 4,
  "nbformat_minor": 0,
  "metadata": {
    "colab": {
      "name": "BOW with lemmatization.ipynb",
      "version": "0.3.2",
      "provenance": []
    },
    "kernelspec": {
      "name": "python3",
      "display_name": "Python 3"
    }
  },
  "cells": [
    {
      "cell_type": "markdown",
      "metadata": {
        "id": "YCeqHZ582pn7",
        "colab_type": "text"
      },
      "source": [
        "# Bag of Words with Lemmatization"
      ]
    },
    {
      "cell_type": "code",
      "metadata": {
        "id": "wrnJRmTv2jCw",
        "colab_type": "code",
        "colab": {}
      },
      "source": [
        "import pandas as pd \n",
        "import numpy as np\n",
        "import matplotlib.pyplot as plt\n",
        "import seaborn as sns"
      ],
      "execution_count": 0,
      "outputs": []
    },
    {
      "cell_type": "code",
      "metadata": {
        "id": "JitaMxSh25jk",
        "colab_type": "code",
        "colab": {}
      },
      "source": [
        "review_data = pd.read_pickle(\"review_data.pkl\")"
      ],
      "execution_count": 0,
      "outputs": []
    },
    {
      "cell_type": "code",
      "metadata": {
        "id": "-PMqU5cr29Q_",
        "colab_type": "code",
        "colab": {}
      },
      "source": [
        "# nltk installation\n",
        "\n",
        "!pip install nltk\n",
        "\n",
        "import nltk\n",
        "nltk.download('wordnet')"
      ],
      "execution_count": 0,
      "outputs": []
    },
    {
      "cell_type": "code",
      "metadata": {
        "id": "0ACvWq1U3CWX",
        "colab_type": "code",
        "colab": {}
      },
      "source": [
        "from nltk.stem import WordNetLemmatizer\n",
        "from nltk.tokenize import word_tokenize\n",
        "\n",
        "lemmatizer = WordNetLemmatizer()"
      ],
      "execution_count": 0,
      "outputs": []
    },
    {
      "cell_type": "code",
      "metadata": {
        "id": "R6-pGNH23GpA",
        "colab_type": "code",
        "colab": {}
      },
      "source": [
        "def tokenize_lemmatize(review_data):\n",
        "  \"\"\"Takes input as pandas data frame with field name Text and return tokenize \n",
        "  and lemmatized list\"\"\"\n",
        "  X_data = []\n",
        "  for i in range(review_data.shape[0]):\n",
        "      token = word_tokenize(review_data.Text.iloc[i])\n",
        "      for i in range(len(token)):\n",
        "          token[i] = lemmatizer.lemmatize(token[i])\n",
        "      token = ' '.join(token)\n",
        "      X_data.append(token)\n",
        "  return X_data\n",
        " \n",
        "X_data = tokenize_lemmatize(review_data)\n"
      ],
      "execution_count": 0,
      "outputs": []
    },
    {
      "cell_type": "code",
      "metadata": {
        "id": "TjaSjyFZ4ZsJ",
        "colab_type": "code",
        "colab": {
          "base_uri": "https://localhost:8080/",
          "height": 34
        },
        "outputId": "7133f5d3-625e-4c19-ec80-d3cc996bd294"
      },
      "source": [
        "# Stratified Test Train Spilt\n",
        "\n",
        "from sklearn.model_selection import train_test_split\n",
        "\n",
        "X_train,X_test,y_train,y_test = train_test_split(X_data,review_data.Sentiment,\n",
        "                                                 test_size=0.3,stratify=review_data.Sentiment,\n",
        "                                                 random_state=42)\n",
        "len(X_train)"
      ],
      "execution_count": 7,
      "outputs": [
        {
          "output_type": "execute_result",
          "data": {
            "text/plain": [
              "254914"
            ]
          },
          "metadata": {
            "tags": []
          },
          "execution_count": 7
        }
      ]
    },
    {
      "cell_type": "code",
      "metadata": {
        "id": "wiJQ3dzg4pnr",
        "colab_type": "code",
        "colab": {
          "base_uri": "https://localhost:8080/",
          "height": 34
        },
        "outputId": "ae357afb-ec29-436b-eb89-c61e3e8e64b8"
      },
      "source": [
        "#Creating Count BOW for our dataset\n",
        "\n",
        "from sklearn.feature_extraction.text import CountVectorizer\n",
        "count_vector = CountVectorizer()\n",
        "final_counts = count_vector.fit_transform(X_train)\n",
        "print(final_counts.shape)\n",
        "# here final_counts is sparse representation of document"
      ],
      "execution_count": 8,
      "outputs": [
        {
          "output_type": "stream",
          "text": [
            "(254914, 93479)\n"
          ],
          "name": "stdout"
        }
      ]
    },
    {
      "cell_type": "code",
      "metadata": {
        "id": "sewCsdqH46Uc",
        "colab_type": "code",
        "colab": {
          "base_uri": "https://localhost:8080/",
          "height": 34
        },
        "outputId": "d4365e89-9687-41b1-a001-36616914021d"
      },
      "source": [
        "print(\"dimention of single document is :\",len(count_vector.get_feature_names()))"
      ],
      "execution_count": 9,
      "outputs": [
        {
          "output_type": "stream",
          "text": [
            "dimention of single document is : 93479\n"
          ],
          "name": "stdout"
        }
      ]
    },
    {
      "cell_type": "markdown",
      "metadata": {
        "id": "cknDxchh5Sph",
        "colab_type": "text"
      },
      "source": [
        "Observation : In this dataset Stemming gives less dimension as compare to Lemmatization. It may be due to overstemming."
      ]
    },
    {
      "cell_type": "code",
      "metadata": {
        "id": "bHbOTFSn5HGz",
        "colab_type": "code",
        "colab": {
          "base_uri": "https://localhost:8080/",
          "height": 52
        },
        "outputId": "1ffe07f9-cd64-41e7-fbef-c9c87a5a5fb3"
      },
      "source": [
        "# Naive Bayes Classifer\n",
        "from sklearn.naive_bayes import MultinomialNB\n",
        "\n",
        "clf =  MultinomialNB()\n",
        "clf.fit(final_counts,y_train)\n",
        "print(clf.score(final_counts,y_train))\n",
        "X_test_bow = count_vector.transform(X_test)\n",
        "print(clf.score(X_test_bow,y_test))"
      ],
      "execution_count": 10,
      "outputs": [
        {
          "output_type": "stream",
          "text": [
            "0.9164267164612379\n",
            "0.9086590389016018\n"
          ],
          "name": "stdout"
        }
      ]
    },
    {
      "cell_type": "code",
      "metadata": {
        "id": "AniebG4v5n4r",
        "colab_type": "code",
        "colab": {
          "base_uri": "https://localhost:8080/",
          "height": 281
        },
        "outputId": "92667ebf-5414-48f6-cd61-4aaed66ec97a"
      },
      "source": [
        "from sklearn.metrics import confusion_matrix\n",
        "\n",
        "cnf = confusion_matrix(y_test,clf.predict(X_test_bow))\n",
        "sns.heatmap(cnf,annot=True,fmt='g',cmap=\"YlGnBu\");\n",
        "plt.title(\"BOW with Lemmatization Performace\");"
      ],
      "execution_count": 11,
      "outputs": [
        {
          "output_type": "display_data",
          "data": {
            "image/png": "[encoded data removed]",
            "text/plain": [
              "<Figure size 432x288 with 2 Axes>"
            ]
          },
          "metadata": {
            "tags": []
          }
        }
      ]
    },
    {
      "cell_type": "markdown",
      "metadata": {
        "id": "5Xv6FSTA6AOk",
        "colab_type": "text"
      },
      "source": [
        "**Conclusion** : In this dataset both Lemmatization and Stemming gives similar performance.\n",
        "\n",
        "Lemmatization and Stemming is also known as Text Normalization step."
      ]
    },
    {
      "cell_type": "code",
      "metadata": {
        "id": "4bUVUHnP5zlb",
        "colab_type": "code",
        "colab": {}
      },
      "source": [
        ""
      ],
      "execution_count": 0,
      "outputs": []
    }
  ]
}