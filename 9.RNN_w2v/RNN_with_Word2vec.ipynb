{
  "nbformat": 4,
  "nbformat_minor": 0,
  "metadata": {
    "colab": {
      "name": "RNN with Word2vec.ipynb",
      "version": "0.3.2",
      "provenance": [],
      "toc_visible": true
    },
    "kernelspec": {
      "name": "python3",
      "display_name": "Python 3"
    },
    "accelerator": "GPU"
  },
  "cells": [
    {
      "cell_type": "markdown",
      "metadata": {
        "id": "OcHU3WL6MVba",
        "colab_type": "text"
      },
      "source": [
        "# Recurrent Neural Network with Word2Vec"
      ]
    },
    {
      "cell_type": "code",
      "metadata": {
        "id": "Clmncxj7MT9S",
        "colab_type": "code",
        "colab": {}
      },
      "source": [
        "import pandas as pd \n",
        "import numpy as np\n",
        "import matplotlib.pyplot as plt\n",
        "import seaborn as sns"
      ],
      "execution_count": 0,
      "outputs": []
    },
    {
      "cell_type": "code",
      "metadata": {
        "id": "u5RKjXzjMjA0",
        "colab_type": "code",
        "colab": {
          "base_uri": "https://localhost:8080/",
          "height": 206
        },
        "outputId": "356573cd-b918-40e0-9f0e-7f49d80ab1ad"
      },
      "source": [
        "# load preprocessed text\n",
        "review_data = pd.read_pickle(\"review_data.pkl\")\n",
        "review_data.to_csv(\"review_data.csv\",index=False)\n",
        "review_data.head()"
      ],
      "execution_count": 43,
      "outputs": [
        {
          "output_type": "execute_result",
          "data": {
            "text/html": [
              "<div>\n",
              "<style scoped>\n",
              "    .dataframe tbody tr th:only-of-type {\n",
              "        vertical-align: middle;\n",
              "    }\n",
              "\n",
              "    .dataframe tbody tr th {\n",
              "        vertical-align: top;\n",
              "    }\n",
              "\n",
              "    .dataframe thead th {\n",
              "        text-align: right;\n",
              "    }\n",
              "</style>\n",
              "<table border=\"1\" class=\"dataframe\">\n",
              "  <thead>\n",
              "    <tr style=\"text-align: right;\">\n",
              "      <th></th>\n",
              "      <th>Text</th>\n",
              "      <th>Sentiment</th>\n",
              "    </tr>\n",
              "  </thead>\n",
              "  <tbody>\n",
              "    <tr>\n",
              "      <th>136322</th>\n",
              "      <td>I have to say I was a little apprehensive to b...</td>\n",
              "      <td>1</td>\n",
              "    </tr>\n",
              "    <tr>\n",
              "      <th>516061</th>\n",
              "      <td>Received my free K cups as a sample promotion ...</td>\n",
              "      <td>1</td>\n",
              "    </tr>\n",
              "    <tr>\n",
              "      <th>516078</th>\n",
              "      <td>Brooklyn Bean Roastery Blend K-Cups are great ...</td>\n",
              "      <td>1</td>\n",
              "    </tr>\n",
              "    <tr>\n",
              "      <th>136544</th>\n",
              "      <td>Brooklyn \"French Roast\" K-Cup Coffee is not on...</td>\n",
              "      <td>0</td>\n",
              "    </tr>\n",
              "    <tr>\n",
              "      <th>83317</th>\n",
              "      <td>Overall its just OK when considering the price...</td>\n",
              "      <td>0</td>\n",
              "    </tr>\n",
              "  </tbody>\n",
              "</table>\n",
              "</div>"
            ],
            "text/plain": [
              "                                                     Text  Sentiment\n",
              "136322  I have to say I was a little apprehensive to b...          1\n",
              "516061  Received my free K cups as a sample promotion ...          1\n",
              "516078  Brooklyn Bean Roastery Blend K-Cups are great ...          1\n",
              "136544  Brooklyn \"French Roast\" K-Cup Coffee is not on...          0\n",
              "83317   Overall its just OK when considering the price...          0"
            ]
          },
          "metadata": {
            "tags": []
          },
          "execution_count": 43
        }
      ]
    },
    {
      "cell_type": "code",
      "metadata": {
        "id": "Bp2K2TP0MlXI",
        "colab_type": "code",
        "colab": {}
      },
      "source": [
        "import torch\n",
        "import torchtext.data as data\n",
        "\n",
        "torch.manual_seed(0)\n",
        "torch.backends.cudnn.deterministic = True\n",
        "\n",
        "# Beauty of pytorch \n",
        "# use spacy tokenizer, if none use space for creating token\n",
        "# Not passing fix_length so it use fix length of max_length_sentence for each batch. \n",
        "# means it changes for each batch.\n",
        "\n",
        "Text = data.Field(sequential=True,tokenize='spacy',fix_length=None,stop_words=None,lower=True) \n",
        "Label = data.LabelField(dtype=torch.float,sequential=False)\n"
      ],
      "execution_count": 0,
      "outputs": []
    },
    {
      "cell_type": "code",
      "metadata": {
        "id": "fwSOnZrcMpBH",
        "colab_type": "code",
        "colab": {}
      },
      "source": [
        "dataFields = [(\"Text\",Text),\n",
        "             (\"Sentiment\",Label)]"
      ],
      "execution_count": 0,
      "outputs": []
    },
    {
      "cell_type": "code",
      "metadata": {
        "id": "9q0jLnXBOlrU",
        "colab_type": "code",
        "colab": {}
      },
      "source": [
        "sentiment = data.TabularDataset(\n",
        "    path=\"review_data.csv\", format='CSV',\n",
        "    skip_header=True,\n",
        "    fields=dataFields)"
      ],
      "execution_count": 0,
      "outputs": []
    },
    {
      "cell_type": "code",
      "metadata": {
        "id": "a8d0feCmO7Gi",
        "colab_type": "code",
        "colab": {
          "base_uri": "https://localhost:8080/",
          "height": 34
        },
        "outputId": "96f17672-1ff0-4023-dc09-e8502e423450"
      },
      "source": [
        "print(sentiment.examples[0].__dict__.keys())"
      ],
      "execution_count": 93,
      "outputs": [
        {
          "output_type": "stream",
          "text": [
            "dict_keys(['Text', 'Sentiment'])\n"
          ],
          "name": "stdout"
        }
      ]
    },
    {
      "cell_type": "code",
      "metadata": {
        "id": "oeWHE1d8O9s-",
        "colab_type": "code",
        "colab": {
          "base_uri": "https://localhost:8080/",
          "height": 54
        },
        "outputId": "c99cff92-454d-421e-801a-6d2101353d77"
      },
      "source": [
        "print(sentiment.examples[0].Text)"
      ],
      "execution_count": 94,
      "outputs": [
        {
          "output_type": "stream",
          "text": [
            "['i', 'have', 'to', 'say', 'i', 'was', 'a', 'little', 'apprehensive', 'to', 'buy', 'this', 'product', 'for', 'the', 'price', ',', 'but', 'i', 'like', 'to', 'keep', 'my', 'k', '-', 'cup', 'price', 'under', '$', '0.50', 'and', 'sam', \"'s\", 'club', 'was', 'sold', 'out', 'at', 'the', 'time', ',', 'and', 'i', 'tried', 'this', '.', ' ', 'the', 'fuhgeddaboudit', 'is', 'very', 'strong', ',', 'but', 'that', \"'s\", 'how', 'i', 'like', 'it', '.', ' ', 'overall', ',', 'i', 'was', 'impressed', '.']\n"
          ],
          "name": "stdout"
        }
      ]
    },
    {
      "cell_type": "code",
      "metadata": {
        "id": "jsV1ofIMPAbI",
        "colab_type": "code",
        "colab": {
          "base_uri": "https://localhost:8080/",
          "height": 34
        },
        "outputId": "f601f30e-49fe-4210-f8e3-af47caf95c98"
      },
      "source": [
        "print('Total Reviews:',len(sentiment.examples))"
      ],
      "execution_count": 95,
      "outputs": [
        {
          "output_type": "stream",
          "text": [
            "Total Reviews: 364164\n"
          ],
          "name": "stdout"
        }
      ]
    },
    {
      "cell_type": "code",
      "metadata": {
        "id": "1TT69L2WPCb9",
        "colab_type": "code",
        "colab": {}
      },
      "source": [
        "import random\n",
        "X_train,X_test = sentiment.split(split_ratio=0.7,stratified=True,\n",
        "                                 strata_field='Sentiment',random_state=random.seed(25))\n"
      ],
      "execution_count": 0,
      "outputs": []
    },
    {
      "cell_type": "code",
      "metadata": {
        "id": "_W2GxesJPJa6",
        "colab_type": "code",
        "colab": {
          "base_uri": "https://localhost:8080/",
          "height": 52
        },
        "outputId": "f11f212b-35e6-4f9b-a19d-3d1fda15af81"
      },
      "source": [
        "print(f'Training Review count: {len(X_train)}')\n",
        "print(f'Testing Review count: {len(X_test)}')"
      ],
      "execution_count": 97,
      "outputs": [
        {
          "output_type": "stream",
          "text": [
            "Training Review count: 254915\n",
            "Testing Review count: 109249\n"
          ],
          "name": "stdout"
        }
      ]
    },
    {
      "cell_type": "code",
      "metadata": {
        "id": "Q9C3MBklPUfD",
        "colab_type": "code",
        "colab": {
          "base_uri": "https://localhost:8080/",
          "height": 392
        },
        "outputId": "b0cc385c-e60f-4286-be2e-b93f3b5f3c96"
      },
      "source": [
        "import warnings\n",
        "warnings.filterwarnings('ignore')\n",
        "\n",
        "temp = []\n",
        "for i in range(254915):\n",
        "    temp.append(len(X_train.examples[i].Text))\n",
        "plt.figure(figsize=(13,6),)\n",
        "plt.xlabel('Length of review')\n",
        "sns.distplot(temp);"
      ],
      "execution_count": 98,
      "outputs": [
        {
          "output_type": "display_data",
          "data": {
            "image/png": "[encoded data removed]",
            "text/plain": [
              "<Figure size 936x432 with 1 Axes>"
            ]
          },
          "metadata": {
            "tags": []
          }
        }
      ]
    },
    {
      "cell_type": "code",
      "metadata": {
        "id": "VL8FX1crPUSU",
        "colab_type": "code",
        "colab": {
          "base_uri": "https://localhost:8080/",
          "height": 69
        },
        "outputId": "4d425567-28a2-4a0b-8e3b-ea929b0d5a5d"
      },
      "source": [
        "temp = 0\n",
        "for i in range(len(X_train)):\n",
        "    if(X_train.examples[i].Sentiment == '0'):\n",
        "        temp += 1 \n",
        "print('Train:\\n negative review examples {0:.2f}%\\n positive review examples {1:.2f}%'.format(temp/len(X_train)*100,100-(temp/len(X_train)*100)))\n",
        "    "
      ],
      "execution_count": 99,
      "outputs": [
        {
          "output_type": "stream",
          "text": [
            "Train:\n",
            " negative review examples 15.68%\n",
            " positive review examples 84.32%\n"
          ],
          "name": "stdout"
        }
      ]
    },
    {
      "cell_type": "code",
      "metadata": {
        "id": "9d9XPN59PUFS",
        "colab_type": "code",
        "colab": {
          "base_uri": "https://localhost:8080/",
          "height": 69
        },
        "outputId": "b29f3b97-e8c6-419e-be9e-042b2b2f3c16"
      },
      "source": [
        "temp = 0\n",
        "for i in range(len(X_test)):\n",
        "    if(X_test.examples[i].Sentiment == '0'):\n",
        "        temp += 1 \n",
        "print('Test:\\n negative examples {0:.2f}%\\n positive examples {1:.2f}%'.format(temp/len(X_test)*100,100-(temp/len(X_test)*100)))\n",
        "    "
      ],
      "execution_count": 100,
      "outputs": [
        {
          "output_type": "stream",
          "text": [
            "Test:\n",
            " negative examples 15.68%\n",
            " positive examples 84.32%\n"
          ],
          "name": "stdout"
        }
      ]
    },
    {
      "cell_type": "code",
      "metadata": {
        "id": "s5CddiLEQDkK",
        "colab_type": "code",
        "colab": {
          "base_uri": "https://localhost:8080/",
          "height": 52
        },
        "outputId": "917afc42-d980-4d09-a6de-086d9f95cac4"
      },
      "source": [
        "# create one hot encoding features for word.\n",
        "# here we choose top 30000 most occuring word and all other as <unk>.\n",
        "\n",
        "max_vacab_size = 30000\n",
        "Text.build_vocab(X_train,max_size = max_vacab_size)\n",
        "Label.build_vocab(X_train)\n",
        "\n",
        "print(f\"Unique tokens in TEXT vocabulary: {len(Text.vocab)}\")\n",
        "print(f\"Unique tokens in LABEL vocabulary: {len(Label.vocab)}\")"
      ],
      "execution_count": 101,
      "outputs": [
        {
          "output_type": "stream",
          "text": [
            "Unique tokens in TEXT vocabulary: 30002\n",
            "Unique tokens in LABEL vocabulary: 2\n"
          ],
          "name": "stdout"
        }
      ]
    },
    {
      "cell_type": "markdown",
      "metadata": {
        "id": "G2RANa3gQRf9",
        "colab_type": "text"
      },
      "source": [
        "**Note**  : here vocabulary size is x+2 but given size is x . one is for `<unk>` for unknown vocabulary word. and one for `<pad>` token"
      ]
    },
    {
      "cell_type": "code",
      "metadata": {
        "id": "8FFBhHyFQLVd",
        "colab_type": "code",
        "colab": {
          "base_uri": "https://localhost:8080/",
          "height": 54
        },
        "outputId": "e499b6a0-506d-4f76-ccaa-9449568fad82"
      },
      "source": [
        "# Top 10 frequently occuering words in vocab\n",
        "print(Text.vocab.freqs.most_common(10))"
      ],
      "execution_count": 102,
      "outputs": [
        {
          "output_type": "stream",
          "text": [
            "[('.', 1053871), ('the', 803142), (',', 754751), ('i', 715497), ('and', 573217), ('a', 532765), ('it', 474108), ('to', 446698), (' ', 440275), ('of', 348509)]\n"
          ],
          "name": "stdout"
        }
      ]
    },
    {
      "cell_type": "code",
      "metadata": {
        "id": "zTYPi4QYQd8V",
        "colab_type": "code",
        "colab": {
          "base_uri": "https://localhost:8080/",
          "height": 34
        },
        "outputId": "cbb0bdee-313b-483e-b71d-2feb21c29475"
      },
      "source": [
        "# Vocabulary integer to string [0,1....9]\n",
        "Text.vocab.itos[:10]"
      ],
      "execution_count": 103,
      "outputs": [
        {
          "output_type": "execute_result",
          "data": {
            "text/plain": [
              "['<unk>', '<pad>', '.', 'the', ',', 'i', 'and', 'a', 'it', 'to']"
            ]
          },
          "metadata": {
            "tags": []
          },
          "execution_count": 103
        }
      ]
    },
    {
      "cell_type": "code",
      "metadata": {
        "id": "OXV6ysAjQjI4",
        "colab_type": "code",
        "colab": {
          "base_uri": "https://localhost:8080/",
          "height": 34
        },
        "outputId": "4d9978c3-c13b-4fbf-990f-53ec7f71e394"
      },
      "source": [
        "# Vocabulary string to integer\n",
        "Text.vocab.stoi['the']"
      ],
      "execution_count": 104,
      "outputs": [
        {
          "output_type": "execute_result",
          "data": {
            "text/plain": [
              "3"
            ]
          },
          "metadata": {
            "tags": []
          },
          "execution_count": 104
        }
      ]
    },
    {
      "cell_type": "code",
      "metadata": {
        "id": "n0kY3a21QySw",
        "colab_type": "code",
        "colab": {
          "base_uri": "https://localhost:8080/",
          "height": 34
        },
        "outputId": "d93e9344-4f97-4c77-9bb1-3adaa55b8fc6"
      },
      "source": [
        "# It returns dictionary type object\n",
        "Label.vocab.stoi\n",
        "\n",
        "# Note : here '0' is negative and '1' is positive"
      ],
      "execution_count": 105,
      "outputs": [
        {
          "output_type": "execute_result",
          "data": {
            "text/plain": [
              "defaultdict(<function torchtext.vocab._default_unk_index>, {'0': 1, '1': 0})"
            ]
          },
          "metadata": {
            "tags": []
          },
          "execution_count": 105
        }
      ]
    },
    {
      "cell_type": "code",
      "metadata": {
        "id": "1rOQ1sh1Q4cr",
        "colab_type": "code",
        "colab": {}
      },
      "source": [
        "batch_size = 32\n",
        "\n",
        "device  = torch.device('cuda' if torch.cuda.is_available() else 'cpu')\n",
        "train_loader,test_loader = data.BucketIterator.splits(datasets=(X_train,X_test),\n",
        "                                               batch_size=batch_size,\n",
        "                                               sort_key=lambda x: len(x.Text),#function it should use to group the data.\n",
        "                                               sort_within_batch=False,\n",
        "                                               device=device )"
      ],
      "execution_count": 0,
      "outputs": []
    },
    {
      "cell_type": "code",
      "metadata": {
        "id": "7QU6DVs-Q9A9",
        "colab_type": "code",
        "colab": {}
      },
      "source": [
        "# Build the Model\n",
        "import torch.nn as nn\n",
        "\n",
        "class RNNmodel(nn.Module):\n",
        "    def __init__(self,input_dim,embedding_dim,hidden_dim,layer_dim,output_dim):\n",
        "        super(RNNmodel,self).__init__()\n",
        "        \n",
        "        self.embedding = nn.Embedding(input_dim,embedding_dim)\n",
        "        self.rnn = nn.LSTM(embedding_dim,hidden_dim,layer_dim,dropout=0.5)\n",
        "        self.fc = nn.Linear(hidden_dim,output_dim)\n",
        "    def forward(self,text):\n",
        "        #text = [sentence len, batch size]\n",
        "        embedded = self.embedding(text)\n",
        "        #embedded = [sentence len, batch size, emb dim]\n",
        "        output, hidden = self.rnn(embedded)\n",
        "        #output = [sent len, batch size, hid dim]\n",
        "        #hidden = [1, batch size, hid dim]\n",
        "        # Note output[-1,:,:] == hidden.squeeze(0) for single hidden layer RNN\n",
        "        return self.fc(output[-1,:,:])"
      ],
      "execution_count": 0,
      "outputs": []
    },
    {
      "cell_type": "code",
      "metadata": {
        "id": "nJx_DJ70Q83y",
        "colab_type": "code",
        "colab": {}
      },
      "source": [
        "input_dim = len(Text.vocab)\n",
        "embedding_dim = 100\n",
        "hidden_dim = 200\n",
        "layer_dim = 1\n",
        "output_dim = 1\n",
        "\n",
        "model = RNNmodel(input_dim,embedding_dim,hidden_dim,layer_dim,output_dim)"
      ],
      "execution_count": 0,
      "outputs": []
    },
    {
      "cell_type": "code",
      "metadata": {
        "id": "iStAIEy7RHoh",
        "colab_type": "code",
        "colab": {
          "base_uri": "https://localhost:8080/",
          "height": 34
        },
        "outputId": "1aeafc4d-7aba-4a30-fa5a-7a28b8b1ee4b"
      },
      "source": [
        "def count_parameters(model):\n",
        "# p.numel() count number of elements in tensor\n",
        "    return sum(p.numel() for p in model.parameters() if p.requires_grad)\n",
        "\n",
        "print('Parameters in model: ',count_parameters(model))\n"
      ],
      "execution_count": 128,
      "outputs": [
        {
          "output_type": "stream",
          "text": [
            "Parameters in model:  3242001\n"
          ],
          "name": "stdout"
        }
      ]
    },
    {
      "cell_type": "code",
      "metadata": {
        "id": "U9aJB2nWQ8q-",
        "colab_type": "code",
        "colab": {}
      },
      "source": [
        "import torch.optim as optim\n",
        "\n",
        "optimizer = optim.Adam(model.parameters(), lr=1e-3)"
      ],
      "execution_count": 0,
      "outputs": []
    },
    {
      "cell_type": "code",
      "metadata": {
        "id": "IY6k-3x1RSsp",
        "colab_type": "code",
        "colab": {}
      },
      "source": [
        "criterion = nn.BCEWithLogitsLoss()\n",
        "# BCEwithLogitsloss = (sigmoid + log loss or binary cross entropy )"
      ],
      "execution_count": 0,
      "outputs": []
    },
    {
      "cell_type": "code",
      "metadata": {
        "id": "cvJYudE3RSiJ",
        "colab_type": "code",
        "colab": {}
      },
      "source": [
        "model = model.to(device)\n",
        "criterion = criterion.to(device)"
      ],
      "execution_count": 0,
      "outputs": []
    },
    {
      "cell_type": "code",
      "metadata": {
        "id": "pi-b6abCRSX_",
        "colab_type": "code",
        "colab": {}
      },
      "source": [
        "def binary_accuracy(preds, y):\n",
        "    \"\"\"\n",
        "    Returns accuracy per batch, i.e. if you get 8/10 right, this returns 0.8, NOT 8\n",
        "    \"\"\"\n",
        "\n",
        "    #round predictions to the closest integer\n",
        "    rounded_preds = torch.round(torch.sigmoid(preds))\n",
        "    correct = (rounded_preds == y).float() #convert into float for division \n",
        "    acc = correct.sum() / len(correct)\n",
        "    return acc"
      ],
      "execution_count": 0,
      "outputs": []
    },
    {
      "cell_type": "code",
      "metadata": {
        "id": "4WSqMk_yRSJH",
        "colab_type": "code",
        "colab": {}
      },
      "source": [
        "def train(model, iterator, optimizer, criterion):\n",
        "    \n",
        "    epoch_loss = 0\n",
        "    epoch_acc = 0\n",
        "    \n",
        "    model.train()\n",
        "    \n",
        "    for batch in iterator:\n",
        "        optimizer.zero_grad()\n",
        "        predictions = model(batch.Text).squeeze(1)\n",
        "        loss = criterion(predictions, batch.Sentiment)\n",
        "        acc = binary_accuracy(predictions, batch.Sentiment)\n",
        "        loss.backward()\n",
        "        optimizer.step()\n",
        "        \n",
        "        epoch_loss += loss.item()\n",
        "        epoch_acc += acc.item()\n",
        "    return epoch_loss / len(iterator), epoch_acc / len(iterator)"
      ],
      "execution_count": 0,
      "outputs": []
    },
    {
      "cell_type": "code",
      "metadata": {
        "id": "DskrnuTKRhiI",
        "colab_type": "code",
        "colab": {}
      },
      "source": [
        "def evaluate(model, iterator, criterion):\n",
        "    epoch_loss = 0\n",
        "    epoch_acc = 0\n",
        "    model.eval()\n",
        "    with torch.no_grad():\n",
        "        for batch in iterator:\n",
        "            predictions = model(batch.Text).squeeze(1)\n",
        "            loss = criterion(predictions, batch.Sentiment)\n",
        "            acc = binary_accuracy(predictions, batch.Sentiment)\n",
        "\n",
        "            epoch_loss += loss.item()\n",
        "            epoch_acc += acc.item()\n",
        "    return epoch_loss / len(iterator), epoch_acc / len(iterator)"
      ],
      "execution_count": 0,
      "outputs": []
    },
    {
      "cell_type": "code",
      "metadata": {
        "id": "rJHsAGxJRhZ-",
        "colab_type": "code",
        "colab": {}
      },
      "source": [
        "import time\n",
        "\n",
        "def epoch_time(start_time, end_time):\n",
        "    elapsed_time = end_time - start_time\n",
        "    elapsed_mins = int(elapsed_time / 60)\n",
        "    elapsed_secs = int(elapsed_time - (elapsed_mins * 60))\n",
        "    return elapsed_mins, elapsed_secs"
      ],
      "execution_count": 0,
      "outputs": []
    },
    {
      "cell_type": "code",
      "metadata": {
        "id": "_Eh7FDzFRhQM",
        "colab_type": "code",
        "colab": {
          "base_uri": "https://localhost:8080/",
          "height": 278
        },
        "outputId": "bff64332-58b9-4fa5-f3a8-bbd6fdb89f76"
      },
      "source": [
        "N_EPOCHS = 5\n",
        "\n",
        "best_valid_loss = float('inf')\n",
        "\n",
        "for epoch in range(N_EPOCHS):\n",
        "\n",
        "    start_time = time.time()\n",
        "    train_loss, train_acc = train(model, train_loader, optimizer, criterion)\n",
        "    valid_loss, valid_acc = evaluate(model, test_loader, criterion)\n",
        "    end_time = time.time()\n",
        "    epoch_mins, epoch_secs = epoch_time(start_time, end_time)\n",
        "    if valid_loss < best_valid_loss:\n",
        "        best_valid_loss = valid_loss\n",
        "        torch.save(model.state_dict(), 'tut1-model.pt')\n",
        "    \n",
        "    print(f'Epoch: {epoch+1:02} | Epoch Time: {epoch_mins}m {epoch_secs}s')\n",
        "    print(f'\\tTrain Loss: {train_loss:.3f} | Train Acc: {train_acc*100:.2f}%')\n",
        "    print(f'\\t Val. Loss: {valid_loss:.3f} |  Val. Acc: {valid_acc*100:.2f}%')"
      ],
      "execution_count": 136,
      "outputs": [
        {
          "output_type": "stream",
          "text": [
            "Epoch: 01 | Epoch Time: 4m 18s\n",
            "\tTrain Loss: 0.435 | Train Acc: 84.31%\n",
            "\t Val. Loss: 0.430 |  Val. Acc: 84.32%\n",
            "Epoch: 02 | Epoch Time: 4m 18s\n",
            "\tTrain Loss: 0.223 | Train Acc: 91.34%\n",
            "\t Val. Loss: 0.150 |  Val. Acc: 94.31%\n",
            "Epoch: 03 | Epoch Time: 4m 19s\n",
            "\tTrain Loss: 0.116 | Train Acc: 95.56%\n",
            "\t Val. Loss: 0.130 |  Val. Acc: 94.95%\n",
            "Epoch: 04 | Epoch Time: 4m 18s\n",
            "\tTrain Loss: 0.087 | Train Acc: 96.79%\n",
            "\t Val. Loss: 0.124 |  Val. Acc: 95.26%\n",
            "Epoch: 05 | Epoch Time: 4m 18s\n",
            "\tTrain Loss: 0.064 | Train Acc: 97.70%\n",
            "\t Val. Loss: 0.132 |  Val. Acc: 95.18%\n"
          ],
          "name": "stdout"
        }
      ]
    },
    {
      "cell_type": "markdown",
      "metadata": {
        "id": "cVmJ4rB5R8Zd",
        "colab_type": "text"
      },
      "source": [
        "If RNN not working awesome! Thank god you atleast got hint of bug!! figure it out.\n",
        "(sometime RNN work with Error, its too dangerous situation).\n",
        "Some debugging tips :\n",
        "* Check for any typos.\n",
        "* Check for different learning rate\n",
        "* Check for if any statement condition missing.\n",
        "* Check for input data pattern and its preprocessing pipelines."
      ]
    },
    {
      "cell_type": "code",
      "metadata": {
        "id": "1yx2heGVTI0a",
        "colab_type": "code",
        "colab": {}
      },
      "source": [
        "# !pip install spacy"
      ],
      "execution_count": 0,
      "outputs": []
    },
    {
      "cell_type": "code",
      "metadata": {
        "id": "VL2Ug6QhRhKY",
        "colab_type": "code",
        "colab": {
          "base_uri": "https://localhost:8080/",
          "height": 52
        },
        "outputId": "2c473e1a-ff7d-4216-bb42-7a71c12f3bdc"
      },
      "source": [
        "# Code if want to check sentiment of single query review\n",
        "\n",
        "import spacy\n",
        "nlp = spacy.load('en')\n",
        "\n",
        "sentence = \"your bag is so fake . plz dont make red version of it\"\n",
        "\n",
        "doc = nlp.tokenizer(sentence.lower())\n",
        "#print(type(doc))\n",
        "tokens = [token.text for token in doc]\n",
        "#print(tokens)\n",
        "tokens_int = [Text.vocab.stoi[token] for token in tokens]\n",
        "tensor = torch.ones((2,), dtype=torch.int8)\n",
        "tokens_int = torch.Tensor([tokens_int])\n",
        "#print(tokens_int.t().shape)\n",
        "#model input [Text,batch]\n",
        "pred = torch.sigmoid(model(tokens_int.t().type(torch.LongTensor).cuda()))\n",
        "out_class = {0:'Positive',1:'Negative'}\n",
        "print(out_class[torch.round(pred).item()],' Review detected')\n",
        "print(1-pred.item())"
      ],
      "execution_count": 138,
      "outputs": [
        {
          "output_type": "stream",
          "text": [
            "Negative  Review detected\n",
            "0.15027910470962524\n"
          ],
          "name": "stdout"
        }
      ]
    },
    {
      "cell_type": "code",
      "metadata": {
        "id": "r1mkC7RxRRr6",
        "colab_type": "code",
        "colab": {}
      },
      "source": [
        "# Stratified Test Train Spilt\n",
        "from sklearn.model_selection import train_test_split\n",
        "\n",
        "X_train,X_test,y_train,y_test = train_test_split(review_data.Text,review_data.Sentiment,test_size=0.3,\n",
        "                                                 stratify=review_data.Sentiment,random_state=42)\n"
      ],
      "execution_count": 0,
      "outputs": []
    },
    {
      "cell_type": "code",
      "metadata": {
        "id": "8acygjwySeUU",
        "colab_type": "code",
        "colab": {}
      },
      "source": [
        "X_test_pred = []\n",
        "for text_review in X_test.values:\n",
        "    sentence = text_review\n",
        "\n",
        "    doc = nlp.tokenizer(sentence.lower())\n",
        "    #print(type(doc))\n",
        "    tokens = [token.text for token in doc]\n",
        "    #print(tokens)\n",
        "    tokens_int = [Text.vocab.stoi[token] for token in tokens]\n",
        "    tensor = torch.ones((2,), dtype=torch.int8)\n",
        "    tokens_int = torch.Tensor([tokens_int])\n",
        "    #print(tokens_int.t().shape)\n",
        "    #model input [Text,batch]\n",
        "    pred = torch.sigmoid(model(tokens_int.t().type(torch.LongTensor).cuda()))\n",
        "    #out_class = {0:'Positive',1:'Negative'}\n",
        "    #print(out_class[torch.round(pred).item()],' Review detected')\n",
        "    X_test_pred.append(1-pred.item())"
      ],
      "execution_count": 0,
      "outputs": []
    },
    {
      "cell_type": "code",
      "metadata": {
        "id": "dNiW39hvSwOZ",
        "colab_type": "code",
        "colab": {
          "base_uri": "https://localhost:8080/",
          "height": 34
        },
        "outputId": "f5e25434-f693-4cf0-80d7-0d9f758c66fe"
      },
      "source": [
        "X_test_pred = np.array(X_test_pred)\n",
        "X_test_pred = X_test_pred>0.5\n",
        "X_test_pred = X_test_pred.astype(int)\n",
        "print(X_test_pred)"
      ],
      "execution_count": 141,
      "outputs": [
        {
          "output_type": "stream",
          "text": [
            "[1 0 1 ... 1 1 1]\n"
          ],
          "name": "stdout"
        }
      ]
    },
    {
      "cell_type": "code",
      "metadata": {
        "id": "13eEviehS0pb",
        "colab_type": "code",
        "colab": {
          "base_uri": "https://localhost:8080/",
          "height": 281
        },
        "outputId": "199f8e30-5525-4eaf-b61b-54c412e6472f"
      },
      "source": [
        "from sklearn.metrics import confusion_matrix\n",
        "\n",
        "cnf = confusion_matrix(y_test,X_test_pred)\n",
        "sns.heatmap(cnf,annot=True,fmt='g',cmap=\"YlGnBu\");\n",
        "plt.title(\"Word2Vec with RNN\");"
      ],
      "execution_count": 142,
      "outputs": [
        {
          "output_type": "display_data",
          "data": {
            "image/png": "[encoded data removed]",
            "text/plain": [
              "<Figure size 432x288 with 2 Axes>"
            ]
          },
          "metadata": {
            "tags": []
          }
        }
      ]
    },
    {
      "cell_type": "markdown",
      "metadata": {
        "id": "PR94iBjL5U0-",
        "colab_type": "text"
      },
      "source": [
        "**Conclusion** : The Word2Vec representation with Recurrent Neural network outperform all the previous models with test accuracy of **95.26%**"
      ]
    },
    {
      "cell_type": "code",
      "metadata": {
        "id": "HUuC17sYS0UR",
        "colab_type": "code",
        "colab": {}
      },
      "source": [
        ""
      ],
      "execution_count": 0,
      "outputs": []
    }
  ]
}