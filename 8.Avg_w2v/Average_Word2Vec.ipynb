{
  "nbformat": 4,
  "nbformat_minor": 0,
  "metadata": {
    "colab": {
      "name": "Average Word2Vec.ipynb",
      "version": "0.3.2",
      "provenance": [],
      "toc_visible": true
    },
    "kernelspec": {
      "name": "python3",
      "display_name": "Python 3"
    }
  },
  "cells": [
    {
      "cell_type": "markdown",
      "metadata": {
        "id": "uxuzxgyLGusM",
        "colab_type": "text"
      },
      "source": [
        "# Average Word2Vec Classifier"
      ]
    },
    {
      "cell_type": "code",
      "metadata": {
        "id": "dvFCGMtPGaWq",
        "colab_type": "code",
        "colab": {}
      },
      "source": [
        "import pandas as pd \n",
        "import numpy as np\n",
        "import matplotlib.pyplot as plt\n",
        "import seaborn as sns"
      ],
      "execution_count": 0,
      "outputs": []
    },
    {
      "cell_type": "code",
      "metadata": {
        "id": "F3fpLCR9G0pJ",
        "colab_type": "code",
        "colab": {}
      },
      "source": [
        "# load preprocessed text\n",
        "review_data = pd.read_pickle(\"review_data.pkl\")"
      ],
      "execution_count": 0,
      "outputs": []
    },
    {
      "cell_type": "code",
      "metadata": {
        "id": "fZ6-Q2cVG3In",
        "colab_type": "code",
        "colab": {
          "base_uri": "https://localhost:8080/",
          "height": 332
        },
        "outputId": "0197910d-dc57-43f5-b5ab-733f304d8ffc"
      },
      "source": [
        "!pip install gensim"
      ],
      "execution_count": 5,
      "outputs": [
        {
          "output_type": "stream",
          "text": [
            "Requirement already satisfied: gensim in /usr/local/lib/python3.6/dist-packages (3.6.0)\n",
            "Requirement already satisfied: smart-open>=1.2.1 in /usr/local/lib/python3.6/dist-packages (from gensim) (1.8.3)\n",
            "Requirement already satisfied: scipy>=0.18.1 in /usr/local/lib/python3.6/dist-packages (from gensim) (1.2.1)\n",
            "Requirement already satisfied: six>=1.5.0 in /usr/local/lib/python3.6/dist-packages (from gensim) (1.12.0)\n",
            "Requirement already satisfied: numpy>=1.11.3 in /usr/local/lib/python3.6/dist-packages (from gensim) (1.16.3)\n",
            "Requirement already satisfied: requests in /usr/local/lib/python3.6/dist-packages (from smart-open>=1.2.1->gensim) (2.21.0)\n",
            "Requirement already satisfied: boto>=2.32 in /usr/local/lib/python3.6/dist-packages (from smart-open>=1.2.1->gensim) (2.49.0)\n",
            "Requirement already satisfied: boto3 in /usr/local/lib/python3.6/dist-packages (from smart-open>=1.2.1->gensim) (1.9.139)\n",
            "Requirement already satisfied: urllib3<1.25,>=1.21.1 in /usr/local/lib/python3.6/dist-packages (from requests->smart-open>=1.2.1->gensim) (1.24.2)\n",
            "Requirement already satisfied: chardet<3.1.0,>=3.0.2 in /usr/local/lib/python3.6/dist-packages (from requests->smart-open>=1.2.1->gensim) (3.0.4)\n",
            "Requirement already satisfied: certifi>=2017.4.17 in /usr/local/lib/python3.6/dist-packages (from requests->smart-open>=1.2.1->gensim) (2019.3.9)\n",
            "Requirement already satisfied: idna<2.9,>=2.5 in /usr/local/lib/python3.6/dist-packages (from requests->smart-open>=1.2.1->gensim) (2.8)\n",
            "Requirement already satisfied: jmespath<1.0.0,>=0.7.1 in /usr/local/lib/python3.6/dist-packages (from boto3->smart-open>=1.2.1->gensim) (0.9.4)\n",
            "Requirement already satisfied: botocore<1.13.0,>=1.12.139 in /usr/local/lib/python3.6/dist-packages (from boto3->smart-open>=1.2.1->gensim) (1.12.139)\n",
            "Requirement already satisfied: s3transfer<0.3.0,>=0.2.0 in /usr/local/lib/python3.6/dist-packages (from boto3->smart-open>=1.2.1->gensim) (0.2.0)\n",
            "Requirement already satisfied: docutils>=0.10 in /usr/local/lib/python3.6/dist-packages (from botocore<1.13.0,>=1.12.139->boto3->smart-open>=1.2.1->gensim) (0.14)\n",
            "Requirement already satisfied: python-dateutil<3.0.0,>=2.1; python_version >= \"2.7\" in /usr/local/lib/python3.6/dist-packages (from botocore<1.13.0,>=1.12.139->boto3->smart-open>=1.2.1->gensim) (2.5.3)\n"
          ],
          "name": "stdout"
        }
      ]
    },
    {
      "cell_type": "code",
      "metadata": {
        "id": "LBZu8R0HHHk-",
        "colab_type": "code",
        "colab": {}
      },
      "source": [
        "from gensim.models import Word2Vec\n",
        "from gensim.models import KeyedVectors\n",
        "from nltk.tokenize import word_tokenize\n",
        "import multiprocessing\n"
      ],
      "execution_count": 0,
      "outputs": []
    },
    {
      "cell_type": "code",
      "metadata": {
        "id": "2-DuoGaeHNaJ",
        "colab_type": "code",
        "colab": {}
      },
      "source": [
        "# Tokenize all corpus and store in X_data_w2v\n",
        "def tokenize(review_data):\n",
        "  \"\"\"Input pandas dataFrame with Text Field Name and It return tokenize list\"\"\"\n",
        "  X_data_w2v = []\n",
        "  for i in range(review_data.shape[0]):\n",
        "      token = word_tokenize(review_data.Text.iloc[i])\n",
        "      X_data_w2v.append(token)\n",
        "  return X_data_w2v\n",
        "\n",
        "X_data_w2v = tokenize(review_data)"
      ],
      "execution_count": 0,
      "outputs": []
    },
    {
      "cell_type": "code",
      "metadata": {
        "id": "T0jlLqxqHp52",
        "colab_type": "code",
        "colab": {}
      },
      "source": [
        "# Train word2vec from scratch\n",
        "\n",
        "# cores = multiprocessing.cpu_count()\n",
        "# w2v_model = Word2Vec(min_count=1,\n",
        "#                      window=2,\n",
        "#                      size=100,\n",
        "#                      sample=6e-5, \n",
        "#                      alpha=0.03, \n",
        "#                      min_alpha=0.0007, \n",
        "#                      negative=20,\n",
        "#                      workers=cores-1)\n",
        "\n",
        "# Build vocabulary \n",
        "#w2v_model.build_vocab(X_data_w2v)\n",
        "# Training\n",
        "#w2v_model.train(X_data_w2v, total_examples=w2v_model.corpus_count, epochs=30, report_delay=1)\n",
        "\n",
        "\n",
        "\n",
        "#make model memory and execution efficient only after completed training.\n",
        "#w2v_model.init_sims(replace=True) \n",
        "\n",
        "# w2v_model.wv('Computer')\n",
        "# w2v_model.wv.most_similar(positive=[\"Excellent\"]) // similar word\n",
        "# w2v_model.wv.similarity(\"Queen\", 'Female') //similarity score\n",
        "# w2v_model.wv.doesnt_match(['Cat', 'Tiger', 'Chair']) //odd one out\n",
        "\n",
        "# Gives Train Accuracy 0.7959037165475416\n",
        "# Gives Test Accuracy0.7948192219679634"
      ],
      "execution_count": 0,
      "outputs": []
    },
    {
      "cell_type": "code",
      "metadata": {
        "id": "Dd0f1XuPH1XZ",
        "colab_type": "code",
        "colab": {}
      },
      "source": [
        "# for twitter trained word2vec\n",
        "\n",
        "#model = api.load(\"glove-twitter-25\")"
      ],
      "execution_count": 0,
      "outputs": []
    },
    {
      "cell_type": "code",
      "metadata": {
        "id": "kYg_Q35oHwpG",
        "colab_type": "code",
        "colab": {}
      },
      "source": [
        "#Google News trained word2vec\n",
        "\n",
        "!wget \"https://s3.amazonaws.com/dl4j-distribution/GoogleNews-vectors-negative300.bin.gz\"\n",
        "model_w2v = KeyedVectors.load_word2vec_format('GoogleNews-vectors-negative300.bin.gz',binary=True) "
      ],
      "execution_count": 0,
      "outputs": []
    },
    {
      "cell_type": "code",
      "metadata": {
        "id": "LntRNu-ZH8DQ",
        "colab_type": "code",
        "colab": {
          "base_uri": "https://localhost:8080/",
          "height": 34
        },
        "outputId": "2aed1f15-9265-4afd-e64d-5c5f574be909"
      },
      "source": [
        "print(\"Vocabulary size of model : \",len(model_w2v.vocab))"
      ],
      "execution_count": 11,
      "outputs": [
        {
          "output_type": "stream",
          "text": [
            "Vocabulary size of model :  3000000\n"
          ],
          "name": "stdout"
        }
      ]
    },
    {
      "cell_type": "code",
      "metadata": {
        "id": "KKWXnhuBITyr",
        "colab_type": "code",
        "colab": {
          "base_uri": "https://localhost:8080/",
          "height": 72
        },
        "outputId": "8a79a259-22c0-4a87-d143-f484819ffe33"
      },
      "source": [
        "def calculate_avg_w2v(X_data_w2v):\n",
        "  \"\"\"pass list of tokenize text return average word2vec\"\"\"\n",
        "  X_data_w2v1 = []\n",
        "  vocab_doc = []\n",
        "  X_data_w2v = np.array(X_data_w2v)\n",
        "\n",
        "  for i in range(len(X_data_w2v)):\n",
        "      for value in X_data_w2v[i]:\n",
        "          if value in model_w2v.vocab:\n",
        "              vocab_doc.append(value)\n",
        "      X_data_w2v[i]= vocab_doc\n",
        "      vocab_doc = []\n",
        "      temp = model_w2v.wv[X_data_w2v[i]]\n",
        "      doc_word = temp.shape[0]\n",
        "      temp = np.sum(temp,axis=0)/doc_word\n",
        "      X_data_w2v1.append(temp)\n",
        "  return X_data_w2v1\n",
        "\n",
        "X_data_w2v1 = calculate_avg_w2v(X_data_w2v)\n"
      ],
      "execution_count": 12,
      "outputs": [
        {
          "output_type": "stream",
          "text": [
            "/usr/local/lib/python3.6/dist-packages/ipykernel_launcher.py:13: DeprecationWarning: Call to deprecated `wv` (Attribute will be removed in 4.0.0, use self instead).\n",
            "  del sys.path[0]\n"
          ],
          "name": "stderr"
        }
      ]
    },
    {
      "cell_type": "code",
      "metadata": {
        "id": "ysQZKxAPJlaF",
        "colab_type": "code",
        "colab": {}
      },
      "source": [
        "X_data_w2v1 = np.array(X_data_w2v1)"
      ],
      "execution_count": 0,
      "outputs": []
    },
    {
      "cell_type": "code",
      "metadata": {
        "id": "CIlzxkDNJrtw",
        "colab_type": "code",
        "colab": {}
      },
      "source": [
        "# Stratified Test Train Spilt\n",
        "\n",
        "from sklearn.model_selection import train_test_split\n",
        "\n",
        "X_train,X_test,y_train,y_test = train_test_split(X_data_w2v1,review_data.Sentiment,\n",
        "                                                 test_size=0.3,stratify=review_data.Sentiment,\n",
        "                                                 random_state=42)"
      ],
      "execution_count": 0,
      "outputs": []
    },
    {
      "cell_type": "code",
      "metadata": {
        "id": "x6x6y6fqJ5ch",
        "colab_type": "code",
        "colab": {
          "base_uri": "https://localhost:8080/",
          "height": 34
        },
        "outputId": "f34070b2-ab95-4376-bb11-9973a6439415"
      },
      "source": [
        "print(\"Dimention of Review\",X_train.shape[1])"
      ],
      "execution_count": 15,
      "outputs": [
        {
          "output_type": "execute_result",
          "data": {
            "text/plain": [
              "300"
            ]
          },
          "metadata": {
            "tags": []
          },
          "execution_count": 15
        }
      ]
    },
    {
      "cell_type": "markdown",
      "metadata": {
        "id": "tuPmdF-xKubT",
        "colab_type": "text"
      },
      "source": [
        "Note : Here Each Review represent by 300 dimension. less dimension means we can try various ML algorithm very fast. Unlike previous ones."
      ]
    },
    {
      "cell_type": "code",
      "metadata": {
        "id": "nBilR_DjJ9H-",
        "colab_type": "code",
        "colab": {
          "base_uri": "https://localhost:8080/",
          "height": 52
        },
        "outputId": "f2c202c1-5cce-4b1d-dcee-579cb35662d4"
      },
      "source": [
        "# Naive Bayes Algorithm\n",
        "from sklearn.naive_bayes import GaussianNB\n",
        "\n",
        "clf =  GaussianNB()\n",
        "clf.fit(X_train,y_train)\n",
        "print(clf.score(X_train,y_train))\n",
        "print(clf.score(X_test,y_test))"
      ],
      "execution_count": 16,
      "outputs": [
        {
          "output_type": "stream",
          "text": [
            "0.6830303553355249\n",
            "0.682233409610984\n"
          ],
          "name": "stdout"
        }
      ]
    },
    {
      "cell_type": "code",
      "metadata": {
        "id": "NYMcqiDLLGnR",
        "colab_type": "code",
        "colab": {
          "base_uri": "https://localhost:8080/",
          "height": 106
        },
        "outputId": "d121b6d2-adc7-4194-abe9-040830e71ca4"
      },
      "source": [
        "# Logistic Regression\n",
        "from sklearn.linear_model import LogisticRegression\n",
        "\n",
        "clf =  LogisticRegression()\n",
        "clf.fit(X_train,y_train)\n",
        "print(clf.score(X_train,y_train))\n",
        "print(clf.score(X_test,y_test))"
      ],
      "execution_count": 17,
      "outputs": [
        {
          "output_type": "stream",
          "text": [
            "/usr/local/lib/python3.6/dist-packages/sklearn/linear_model/logistic.py:433: FutureWarning: Default solver will be changed to 'lbfgs' in 0.22. Specify a solver to silence this warning.\n",
            "  FutureWarning)\n"
          ],
          "name": "stderr"
        },
        {
          "output_type": "stream",
          "text": [
            "0.8969142534344916\n",
            "0.8961189931350114\n"
          ],
          "name": "stdout"
        }
      ]
    },
    {
      "cell_type": "code",
      "metadata": {
        "id": "POkzu4daLU05",
        "colab_type": "code",
        "colab": {
          "base_uri": "https://localhost:8080/",
          "height": 1270
        },
        "outputId": "8b08c9df-5b89-4da0-d463-01ba1b9a9f6c"
      },
      "source": [
        "# Deep Learning Model\n",
        "\n",
        "from keras.models import Sequential\n",
        "from keras.layers import Dense, Dropout\n",
        "from keras.optimizers import Adam\n",
        "\n",
        "batch_size = 256\n",
        "epochs = 30\n",
        "\n",
        "model = Sequential()\n",
        "model.add(Dense(100, activation='relu', input_shape=(300,)))\n",
        "model.add(Dropout(0.1))\n",
        "model.add(Dense(1, activation='sigmoid'))\n",
        "\n",
        "model.compile(loss='binary_crossentropy',\n",
        "              optimizer=Adam(),\n",
        "              metrics=['accuracy'])\n",
        "history = model.fit(X_train, y_train,\n",
        "                    batch_size=batch_size,\n",
        "                    epochs=epochs,\n",
        "                    verbose=1,\n",
        "                    validation_data=(X_test, y_test))"
      ],
      "execution_count": 18,
      "outputs": [
        {
          "output_type": "stream",
          "text": [
            "Using TensorFlow backend.\n"
          ],
          "name": "stderr"
        },
        {
          "output_type": "stream",
          "text": [
            "WARNING:tensorflow:From /usr/local/lib/python3.6/dist-packages/tensorflow/python/framework/op_def_library.py:263: colocate_with (from tensorflow.python.framework.ops) is deprecated and will be removed in a future version.\n",
            "Instructions for updating:\n",
            "Colocations handled automatically by placer.\n",
            "WARNING:tensorflow:From /usr/local/lib/python3.6/dist-packages/keras/backend/tensorflow_backend.py:3445: calling dropout (from tensorflow.python.ops.nn_ops) with keep_prob is deprecated and will be removed in a future version.\n",
            "Instructions for updating:\n",
            "Please use `rate` instead of `keep_prob`. Rate should be set to `rate = 1 - keep_prob`.\n",
            "WARNING:tensorflow:From /usr/local/lib/python3.6/dist-packages/tensorflow/python/ops/math_ops.py:3066: to_int32 (from tensorflow.python.ops.math_ops) is deprecated and will be removed in a future version.\n",
            "Instructions for updating:\n",
            "Use tf.cast instead.\n",
            "Train on 254914 samples, validate on 109250 samples\n",
            "Epoch 1/30\n",
            "254914/254914 [==============================] - 5s 21us/step - loss: 0.3152 - acc: 0.8679 - val_loss: 0.2593 - val_acc: 0.8897\n",
            "Epoch 2/30\n",
            "254914/254914 [==============================] - 4s 15us/step - loss: 0.2567 - acc: 0.8928 - val_loss: 0.2498 - val_acc: 0.8944\n",
            "Epoch 3/30\n",
            "254914/254914 [==============================] - 4s 15us/step - loss: 0.2508 - acc: 0.8960 - val_loss: 0.2455 - val_acc: 0.8971\n",
            "Epoch 4/30\n",
            "254914/254914 [==============================] - 4s 15us/step - loss: 0.2463 - acc: 0.8984 - val_loss: 0.2428 - val_acc: 0.8987\n",
            "Epoch 5/30\n",
            "254914/254914 [==============================] - 4s 15us/step - loss: 0.2433 - acc: 0.8997 - val_loss: 0.2406 - val_acc: 0.8994\n",
            "Epoch 6/30\n",
            "254914/254914 [==============================] - 4s 15us/step - loss: 0.2403 - acc: 0.9007 - val_loss: 0.2372 - val_acc: 0.9010\n",
            "Epoch 7/30\n",
            "254914/254914 [==============================] - 4s 15us/step - loss: 0.2379 - acc: 0.9022 - val_loss: 0.2378 - val_acc: 0.9012\n",
            "Epoch 8/30\n",
            "254914/254914 [==============================] - 4s 15us/step - loss: 0.2357 - acc: 0.9029 - val_loss: 0.2349 - val_acc: 0.9031\n",
            "Epoch 9/30\n",
            "254914/254914 [==============================] - 4s 15us/step - loss: 0.2338 - acc: 0.9040 - val_loss: 0.2318 - val_acc: 0.9034\n",
            "Epoch 10/30\n",
            "254914/254914 [==============================] - 4s 15us/step - loss: 0.2323 - acc: 0.9049 - val_loss: 0.2333 - val_acc: 0.9023\n",
            "Epoch 11/30\n",
            "254914/254914 [==============================] - 4s 15us/step - loss: 0.2307 - acc: 0.9051 - val_loss: 0.2300 - val_acc: 0.9045\n",
            "Epoch 12/30\n",
            "254914/254914 [==============================] - 4s 15us/step - loss: 0.2294 - acc: 0.9061 - val_loss: 0.2275 - val_acc: 0.9059\n",
            "Epoch 13/30\n",
            "254914/254914 [==============================] - 4s 16us/step - loss: 0.2276 - acc: 0.9068 - val_loss: 0.2350 - val_acc: 0.9006\n",
            "Epoch 14/30\n",
            "254914/254914 [==============================] - 4s 17us/step - loss: 0.2261 - acc: 0.9070 - val_loss: 0.2249 - val_acc: 0.9070\n",
            "Epoch 15/30\n",
            "254914/254914 [==============================] - 4s 16us/step - loss: 0.2248 - acc: 0.9079 - val_loss: 0.2244 - val_acc: 0.9070\n",
            "Epoch 16/30\n",
            "254914/254914 [==============================] - 4s 17us/step - loss: 0.2234 - acc: 0.9085 - val_loss: 0.2258 - val_acc: 0.9066\n",
            "Epoch 17/30\n",
            "254914/254914 [==============================] - 4s 16us/step - loss: 0.2225 - acc: 0.9089 - val_loss: 0.2231 - val_acc: 0.9071\n",
            "Epoch 18/30\n",
            "254914/254914 [==============================] - 4s 15us/step - loss: 0.2210 - acc: 0.9095 - val_loss: 0.2215 - val_acc: 0.9078\n",
            "Epoch 19/30\n",
            "254914/254914 [==============================] - 4s 16us/step - loss: 0.2201 - acc: 0.9099 - val_loss: 0.2222 - val_acc: 0.9084\n",
            "Epoch 20/30\n",
            "254914/254914 [==============================] - 4s 15us/step - loss: 0.2187 - acc: 0.9108 - val_loss: 0.2235 - val_acc: 0.9086\n",
            "Epoch 21/30\n",
            "254914/254914 [==============================] - 4s 15us/step - loss: 0.2178 - acc: 0.9111 - val_loss: 0.2202 - val_acc: 0.9090\n",
            "Epoch 22/30\n",
            "254914/254914 [==============================] - 4s 15us/step - loss: 0.2161 - acc: 0.9117 - val_loss: 0.2200 - val_acc: 0.9085\n",
            "Epoch 23/30\n",
            "254914/254914 [==============================] - 4s 15us/step - loss: 0.2153 - acc: 0.9122 - val_loss: 0.2186 - val_acc: 0.9094\n",
            "Epoch 24/30\n",
            "254914/254914 [==============================] - 4s 15us/step - loss: 0.2145 - acc: 0.9124 - val_loss: 0.2191 - val_acc: 0.9096\n",
            "Epoch 25/30\n",
            "254914/254914 [==============================] - 4s 15us/step - loss: 0.2130 - acc: 0.9133 - val_loss: 0.2170 - val_acc: 0.9100\n",
            "Epoch 26/30\n",
            "254914/254914 [==============================] - 4s 15us/step - loss: 0.2120 - acc: 0.9132 - val_loss: 0.2169 - val_acc: 0.9102\n",
            "Epoch 27/30\n",
            "254914/254914 [==============================] - 4s 15us/step - loss: 0.2116 - acc: 0.9135 - val_loss: 0.2166 - val_acc: 0.9103\n",
            "Epoch 28/30\n",
            "254914/254914 [==============================] - 4s 15us/step - loss: 0.2109 - acc: 0.9140 - val_loss: 0.2158 - val_acc: 0.9119\n",
            "Epoch 29/30\n",
            "254914/254914 [==============================] - 4s 15us/step - loss: 0.2098 - acc: 0.9146 - val_loss: 0.2165 - val_acc: 0.9111\n",
            "Epoch 30/30\n",
            "254914/254914 [==============================] - 4s 15us/step - loss: 0.2090 - acc: 0.9151 - val_loss: 0.2152 - val_acc: 0.9115\n"
          ],
          "name": "stdout"
        }
      ]
    },
    {
      "cell_type": "code",
      "metadata": {
        "id": "OcmR1xOxLcrB",
        "colab_type": "code",
        "colab": {
          "base_uri": "https://localhost:8080/",
          "height": 52
        },
        "outputId": "6a415c71-4496-43ee-ec2c-2094adeb5525"
      },
      "source": [
        "# Best Accurcy given by MLP model\n",
        "print('Train Accuracy:',model.evaluate(X_train, y_train, verbose=0)[1])\n",
        "print('Test Accuracy:',model.evaluate(X_test, y_test, verbose=0)[1])"
      ],
      "execution_count": 19,
      "outputs": [
        {
          "output_type": "stream",
          "text": [
            "Train Accuracy: 0.917882109260378\n",
            "Test Accuracy: 0.9114782608695652\n"
          ],
          "name": "stdout"
        }
      ]
    },
    {
      "cell_type": "code",
      "metadata": {
        "id": "RSF6uiUqLofd",
        "colab_type": "code",
        "colab": {
          "base_uri": "https://localhost:8080/",
          "height": 281
        },
        "outputId": "cb4ee314-c379-4287-ed1f-7338c6d53b60"
      },
      "source": [
        "from sklearn.metrics import confusion_matrix\n",
        "\n",
        "cnf = confusion_matrix(y_test,clf.predict(X_test))\n",
        "sns.heatmap(cnf,annot=True,fmt='g',cmap=\"YlGnBu\");\n",
        "plt.title(\"Average Word2Vec with Deep learning\");"
      ],
      "execution_count": 20,
      "outputs": [
        {
          "output_type": "display_data",
          "data": {
            "image/png": "[encoded data removed]",
            "text/plain": [
              "<Figure size 432x288 with 2 Axes>"
            ]
          },
          "metadata": {
            "tags": []
          }
        }
      ]
    },
    {
      "cell_type": "markdown",
      "metadata": {
        "id": "rrmDwbKCMCTh",
        "colab_type": "text"
      },
      "source": [
        "Our Average Word2Vec Apppoch Gives Good Result but This approch don't outperform previous one."
      ]
    },
    {
      "cell_type": "code",
      "metadata": {
        "id": "XWm94uGsL4JS",
        "colab_type": "code",
        "colab": {}
      },
      "source": [
        ""
      ],
      "execution_count": 0,
      "outputs": []
    }
  ]
}