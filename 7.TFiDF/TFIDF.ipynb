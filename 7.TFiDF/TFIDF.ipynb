{
  "nbformat": 4,
  "nbformat_minor": 0,
  "metadata": {
    "colab": {
      "name": "TFIDF.ipynb",
      "version": "0.3.2",
      "provenance": []
    },
    "kernelspec": {
      "name": "python3",
      "display_name": "Python 3"
    }
  },
  "cells": [
    {
      "cell_type": "markdown",
      "metadata": {
        "id": "O8l2Uq-REU6j",
        "colab_type": "text"
      },
      "source": [
        "# Term frequency Inverse Document frequency (TFIDF)"
      ]
    },
    {
      "cell_type": "code",
      "metadata": {
        "id": "XyajJOHkERcB",
        "colab_type": "code",
        "colab": {}
      },
      "source": [
        "import pandas as pd \n",
        "import numpy as np\n",
        "import matplotlib.pyplot as plt\n",
        "import seaborn as sns"
      ],
      "execution_count": 0,
      "outputs": []
    },
    {
      "cell_type": "code",
      "metadata": {
        "id": "wfgtDynMElVO",
        "colab_type": "code",
        "colab": {}
      },
      "source": [
        "# load preprocessed text\n",
        "review_data = pd.read_pickle(\"review_data.pkl\")"
      ],
      "execution_count": 0,
      "outputs": []
    },
    {
      "cell_type": "code",
      "metadata": {
        "id": "0ycrut_SEtPe",
        "colab_type": "code",
        "colab": {
          "base_uri": "https://localhost:8080/",
          "height": 34
        },
        "outputId": "a14ea837-8f8e-49a4-f6b5-a7978ff0b540"
      },
      "source": [
        "# Stratified Test Train Spilt\n",
        "\n",
        "from sklearn.model_selection import train_test_split\n",
        "\n",
        "X_train,X_test,y_train,y_test = train_test_split(review_data.Text,review_data.Sentiment,\n",
        "                                                 test_size=0.3,stratify=review_data.Sentiment,random_state=42)\n",
        "X_train.shape"
      ],
      "execution_count": 4,
      "outputs": [
        {
          "output_type": "execute_result",
          "data": {
            "text/plain": [
              "(254914,)"
            ]
          },
          "metadata": {
            "tags": []
          },
          "execution_count": 4
        }
      ]
    },
    {
      "cell_type": "code",
      "metadata": {
        "id": "rohvVa8IE1Ym",
        "colab_type": "code",
        "colab": {
          "base_uri": "https://localhost:8080/",
          "height": 34
        },
        "outputId": "97e56831-6199-470f-9cb0-186998b66399"
      },
      "source": [
        "# Creating TFIDF Features\n",
        "\n",
        "from sklearn.feature_extraction.text import TfidfVectorizer\n",
        "\n",
        "tfidf_vec = TfidfVectorizer()\n",
        "final_counts = tfidf_vec.fit_transform(X_train)\n",
        "print(final_counts.shape)"
      ],
      "execution_count": 5,
      "outputs": [
        {
          "output_type": "stream",
          "text": [
            "(254914, 96703)\n"
          ],
          "name": "stdout"
        }
      ]
    },
    {
      "cell_type": "code",
      "metadata": {
        "id": "n-CaIhsRFBqz",
        "colab_type": "code",
        "colab": {
          "base_uri": "https://localhost:8080/",
          "height": 52
        },
        "outputId": "4d81ab7e-567f-41b0-e12d-d764e2c8b5a2"
      },
      "source": [
        "# we use navie bayes as classifier because its known for its speed.\n",
        "# here we need to perform several experiment to we go with speed rathar than accuracy\n",
        "from sklearn.naive_bayes import MultinomialNB\n",
        "clf =  MultinomialNB()\n",
        "clf.fit(final_counts,y_train)\n",
        "print(clf.score(final_counts,y_train))\n",
        "X_test_bow = tfidf_vec.transform(X_test)\n",
        "print(clf.score(X_test_bow,y_test))"
      ],
      "execution_count": 6,
      "outputs": [
        {
          "output_type": "stream",
          "text": [
            "0.8556454333618396\n",
            "0.8513867276887872\n"
          ],
          "name": "stdout"
        }
      ]
    },
    {
      "cell_type": "code",
      "metadata": {
        "id": "8wnuGDScFIcr",
        "colab_type": "code",
        "colab": {
          "base_uri": "https://localhost:8080/",
          "height": 121
        },
        "outputId": "e8b3ec47-e861-4967-baf2-c3cef3591454"
      },
      "source": [
        "# TFIDF row with non zero entry return row index, column index\n",
        "final_counts[0,:].nonzero()\n"
      ],
      "execution_count": 7,
      "outputs": [
        {
          "output_type": "execute_result",
          "data": {
            "text/plain": [
              "(array([0, 0, 0, 0, 0, 0, 0, 0, 0, 0, 0, 0, 0, 0, 0, 0, 0, 0, 0, 0, 0, 0,\n",
              "        0, 0, 0, 0], dtype=int32),\n",
              " array([93598, 91411, 86718, 77295, 52439, 93720, 87708, 55171, 80781,\n",
              "        43875, 55386, 86696, 93382, 16309, 43874, 91874, 35557, 43667,\n",
              "        87031, 94523, 29145, 15508, 82410, 47442, 59777, 64720],\n",
              "       dtype=int32))"
            ]
          },
          "metadata": {
            "tags": []
          },
          "execution_count": 7
        }
      ]
    },
    {
      "cell_type": "code",
      "metadata": {
        "id": "wSn2zZC0FTQo",
        "colab_type": "code",
        "colab": {
          "base_uri": "https://localhost:8080/",
          "height": 72
        },
        "outputId": "fbfdc2d2-8f0a-40aa-e7ee-dc51a274bd37"
      },
      "source": [
        "# look at some example\n",
        "print(X_train.iloc[0])\n",
        "# TFidf value of \"We\"\n",
        "final_counts[0,93598]"
      ],
      "execution_count": 9,
      "outputs": [
        {
          "output_type": "stream",
          "text": [
            "We used the seasoning last weekend to make some hamburgers. Man, that was the best hamburger I've ever had! This will definitely be a staple in my pantry.\n"
          ],
          "name": "stdout"
        },
        {
          "output_type": "execute_result",
          "data": {
            "text/plain": [
              "0.13741699990331868"
            ]
          },
          "metadata": {
            "tags": []
          },
          "execution_count": 9
        }
      ]
    },
    {
      "cell_type": "code",
      "metadata": {
        "id": "rujyWqI6Fdl_",
        "colab_type": "code",
        "colab": {
          "base_uri": "https://localhost:8080/",
          "height": 469
        },
        "outputId": "eb84f5a4-d1a3-4967-b7ef-34a5eeae1453"
      },
      "source": [
        "# Checkout review with corresponding Tfidf value\n",
        "\n",
        "tf_vocab=tfidf_vec.get_feature_names()\n",
        "first_sentence =  [93598, 91411, 86718, 77295, 52439, 93720, 87708, 55171, 80781,\n",
        "        43875, 55386, 86696, 93382, 16309, 43874, 91874, 35557, 43667,\n",
        "        87031, 94523, 29145, 15508, 82410, 47442, 59777, 64720]\n",
        "for value in first_sentence:\n",
        "    print(tf_vocab[value],'\\t\\t\\t',final_counts[0,value])"
      ],
      "execution_count": 10,
      "outputs": [
        {
          "output_type": "stream",
          "text": [
            "we \t\t\t 0.13741699990331868\n",
            "used \t\t\t 0.15720499431001422\n",
            "the \t\t\t 0.10890297208741082\n",
            "seasoning \t\t\t 0.25888151501372736\n",
            "last \t\t\t 0.19158338281996679\n",
            "weekend \t\t\t 0.3293932269904595\n",
            "to \t\t\t 0.0630690672213203\n",
            "make \t\t\t 0.14558915778417017\n",
            "some \t\t\t 0.13478660228671113\n",
            "hamburgers \t\t\t 0.3767074432196095\n",
            "man \t\t\t 0.2980132553368805\n",
            "that \t\t\t 0.08696976286641608\n",
            "was \t\t\t 0.09859527013104034\n",
            "best \t\t\t 0.1416456275592033\n",
            "hamburger \t\t\t 0.339940485540104\n",
            "ve \t\t\t 0.1434246640619987\n",
            "ever \t\t\t 0.17620823351560547\n",
            "had \t\t\t 0.1272907654181933\n",
            "this \t\t\t 0.06594541619363117\n",
            "will \t\t\t 0.12431590678169643\n",
            "definitely \t\t\t 0.18570717353790192\n",
            "be \t\t\t 0.11085694952340505\n",
            "staple \t\t\t 0.2871979652088317\n",
            "in \t\t\t 0.07598041210316836\n",
            "my \t\t\t 0.08032741882170304\n",
            "pantry \t\t\t 0.2761146264606052\n"
          ],
          "name": "stdout"
        }
      ]
    },
    {
      "cell_type": "code",
      "metadata": {
        "id": "Q4550Rd2Fy0L",
        "colab_type": "code",
        "colab": {
          "base_uri": "https://localhost:8080/",
          "height": 281
        },
        "outputId": "80c8074e-38dd-4722-b2e6-8a42af96a921"
      },
      "source": [
        "from sklearn.metrics import confusion_matrix\n",
        "\n",
        "cnf = confusion_matrix(y_test,clf.predict(X_test_bow))\n",
        "sns.heatmap(cnf,annot=True,fmt='g',cmap=\"YlGnBu\");\n",
        "plt.title(\"TFidf Performace\");"
      ],
      "execution_count": 12,
      "outputs": [
        {
          "output_type": "display_data",
          "data": {
            "image/png": "[encoded data removed]",
            "text/plain": [
              "<Figure size 432x288 with 2 Axes>"
            ]
          },
          "metadata": {
            "tags": []
          }
        }
      ]
    },
    {
      "cell_type": "markdown",
      "metadata": {
        "id": "04aW84aqGLry",
        "colab_type": "text"
      },
      "source": [
        "**Conclusion** : TFIDF perform very poorly on our review dataset"
      ]
    },
    {
      "cell_type": "code",
      "metadata": {
        "id": "zvD6Ff2fGGdA",
        "colab_type": "code",
        "colab": {}
      },
      "source": [
        ""
      ],
      "execution_count": 0,
      "outputs": []
    }
  ]
}