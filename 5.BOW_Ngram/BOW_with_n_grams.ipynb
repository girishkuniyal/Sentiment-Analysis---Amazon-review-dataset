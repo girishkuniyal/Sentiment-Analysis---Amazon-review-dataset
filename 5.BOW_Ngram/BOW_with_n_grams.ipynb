{
  "nbformat": 4,
  "nbformat_minor": 0,
  "metadata": {
    "colab": {
      "name": "BOW with n-grams.ipynb",
      "version": "0.3.2",
      "provenance": []
    },
    "kernelspec": {
      "name": "python3",
      "display_name": "Python 3"
    }
  },
  "cells": [
    {
      "cell_type": "markdown",
      "metadata": {
        "id": "gSx4Wock8RN5",
        "colab_type": "text"
      },
      "source": [
        "# Bag of Words with n-gram"
      ]
    },
    {
      "cell_type": "code",
      "metadata": {
        "id": "zRGiUMTT6QfE",
        "colab_type": "code",
        "colab": {}
      },
      "source": [
        "import pandas as pd \n",
        "import numpy as np\n",
        "import matplotlib.pyplot as plt\n",
        "import seaborn as sns"
      ],
      "execution_count": 0,
      "outputs": []
    },
    {
      "cell_type": "code",
      "metadata": {
        "id": "ueWzXDR77xQa",
        "colab_type": "code",
        "colab": {}
      },
      "source": [
        "# load preprocessed text\n",
        "review_data = pd.read_pickle(\"review_data.pkl\")"
      ],
      "execution_count": 0,
      "outputs": []
    },
    {
      "cell_type": "code",
      "metadata": {
        "id": "WeeIwC__72YE",
        "colab_type": "code",
        "colab": {
          "base_uri": "https://localhost:8080/",
          "height": 34
        },
        "outputId": "72ea9777-e616-4e5d-aabb-d89922d1fce5"
      },
      "source": [
        "# Stratified Test Train Spilt\n",
        "\n",
        "from sklearn.model_selection import train_test_split\n",
        "\n",
        "X_train,X_test,y_train,y_test = train_test_split(review_data.Text,review_data.Sentiment,\n",
        "                                                 test_size=0.3,stratify=review_data.Sentiment,\n",
        "                                                 random_state=42)\n",
        "X_train.shape"
      ],
      "execution_count": 4,
      "outputs": [
        {
          "output_type": "execute_result",
          "data": {
            "text/plain": [
              "(254914,)"
            ]
          },
          "metadata": {
            "tags": []
          },
          "execution_count": 4
        }
      ]
    },
    {
      "cell_type": "code",
      "metadata": {
        "id": "MKejw1EG78gu",
        "colab_type": "code",
        "colab": {
          "base_uri": "https://localhost:8080/",
          "height": 34
        },
        "outputId": "f6ea6601-24dd-4817-98ae-dac66b646ada"
      },
      "source": [
        "#Creating BOW Features with Bi-gram for our dataset\n",
        "\n",
        "from sklearn.feature_extraction.text import CountVectorizer\n",
        "\n",
        "count_vector = CountVectorizer(ngram_range=(1,2)) # it gives uni-gram + bi-gram\n",
        "final_counts = count_vector.fit_transform(X_train.values)\n",
        "print(final_counts.shape)\n",
        "# here final_counts is sparse representation of document"
      ],
      "execution_count": 5,
      "outputs": [
        {
          "output_type": "stream",
          "text": [
            "(254914, 2330815)\n"
          ],
          "name": "stdout"
        }
      ]
    },
    {
      "cell_type": "code",
      "metadata": {
        "id": "Uqr_l7T18O51",
        "colab_type": "code",
        "colab": {
          "base_uri": "https://localhost:8080/",
          "height": 52
        },
        "outputId": "36c27b7b-4590-45d7-a55f-d2ab1fbf86cc"
      },
      "source": [
        "# Naive Bayes Classifier\n",
        "\n",
        "from sklearn.naive_bayes import MultinomialNB\n",
        "\n",
        "clf =  MultinomialNB()\n",
        "clf.fit(final_counts,y_train)\n",
        "print(clf.score(final_counts,y_train))\n",
        "X_test_bow = count_vector.transform(X_test)\n",
        "print(clf.score(X_test_bow,y_test))"
      ],
      "execution_count": 6,
      "outputs": [
        {
          "output_type": "stream",
          "text": [
            "0.9607946209309807\n",
            "0.9113592677345538\n"
          ],
          "name": "stdout"
        }
      ]
    },
    {
      "cell_type": "markdown",
      "metadata": {
        "id": "JKPg02kl8tcM",
        "colab_type": "text"
      },
      "source": [
        "**Conclusion** :  This gives better performance than all previous approches. Lets go ahead and try with tri-gram Approch"
      ]
    },
    {
      "cell_type": "code",
      "metadata": {
        "id": "_ytBrPDc8gTG",
        "colab_type": "code",
        "colab": {
          "base_uri": "https://localhost:8080/",
          "height": 34
        },
        "outputId": "e29974af-145a-457a-c641-16d79bf5eb79"
      },
      "source": [
        "print(\"dimention of single document is :\",len(count_vector.get_feature_names()))"
      ],
      "execution_count": 8,
      "outputs": [
        {
          "output_type": "stream",
          "text": [
            "dimention of single document is : 2330815\n"
          ],
          "name": "stdout"
        }
      ]
    },
    {
      "cell_type": "markdown",
      "metadata": {
        "id": "jPE6XmfR8_EZ",
        "colab_type": "text"
      },
      "source": [
        "Bi-gram have very very high dimension as compare to all previous approches."
      ]
    },
    {
      "cell_type": "code",
      "metadata": {
        "id": "yryJGiul8rX8",
        "colab_type": "code",
        "colab": {
          "base_uri": "https://localhost:8080/",
          "height": 281
        },
        "outputId": "0b408f7d-8f7b-46bf-9f3f-384f43826378"
      },
      "source": [
        "from sklearn.metrics import confusion_matrix\n",
        "\n",
        "cnf = confusion_matrix(y_test,clf.predict(X_test_bow))\n",
        "sns.heatmap(cnf,annot=True,fmt='g',cmap=\"YlGnBu\");\n",
        "plt.title(\"BOW(count) Performace\");"
      ],
      "execution_count": 9,
      "outputs": [
        {
          "output_type": "display_data",
          "data": {
            "image/png": "[encoded data removed]",
            "text/plain": [
              "<Figure size 432x288 with 2 Axes>"
            ]
          },
          "metadata": {
            "tags": []
          }
        }
      ]
    },
    {
      "cell_type": "markdown",
      "metadata": {
        "id": "Sd3aDdzA9bfL",
        "colab_type": "text"
      },
      "source": [
        "# Bag of Words with Tri-gram"
      ]
    },
    {
      "cell_type": "code",
      "metadata": {
        "id": "tHcU-tfU9a_w",
        "colab_type": "code",
        "colab": {
          "base_uri": "https://localhost:8080/",
          "height": 34
        },
        "outputId": "7277e679-fa4e-49a6-8776-036a58e992ba"
      },
      "source": [
        "#Creating BOW Features with Tri-gram for our dataset\n",
        "\n",
        "from sklearn.feature_extraction.text import CountVectorizer\n",
        "\n",
        "count_vector = CountVectorizer(ngram_range=(1,3)) # it gives uni-gram + Bi-gram +Tri-gram\n",
        "final_counts = count_vector.fit_transform(X_train.values)\n",
        "print(final_counts.shape)\n",
        "# here final_counts is sparse representation of document"
      ],
      "execution_count": 10,
      "outputs": [
        {
          "output_type": "stream",
          "text": [
            "(254914, 10595852)\n"
          ],
          "name": "stdout"
        }
      ]
    },
    {
      "cell_type": "code",
      "metadata": {
        "id": "MZIknFGH9X8-",
        "colab_type": "code",
        "colab": {
          "base_uri": "https://localhost:8080/",
          "height": 52
        },
        "outputId": "e4553ef8-caa0-43fd-d5ab-4ea0564bbeb6"
      },
      "source": [
        "# Naive Bayes Classifier\n",
        "\n",
        "from sklearn.naive_bayes import MultinomialNB\n",
        "\n",
        "clf =  MultinomialNB()\n",
        "clf.fit(final_counts,y_train)\n",
        "print(clf.score(final_counts,y_train))\n",
        "X_test_bow = count_vector.transform(X_test)\n",
        "print(clf.score(X_test_bow,y_test))"
      ],
      "execution_count": 11,
      "outputs": [
        {
          "output_type": "stream",
          "text": [
            "0.978945840557992\n",
            "0.8735469107551488\n"
          ],
          "name": "stdout"
        }
      ]
    },
    {
      "cell_type": "markdown",
      "metadata": {
        "id": "n0I5jEeE-gIf",
        "colab_type": "text"
      },
      "source": [
        "**Conclusion** :  Performance drops drastically when we move from bi-gram to tri-gram approch. Incresing n-gram not always help"
      ]
    },
    {
      "cell_type": "code",
      "metadata": {
        "id": "dafhIkLZ-aSn",
        "colab_type": "code",
        "colab": {
          "base_uri": "https://localhost:8080/",
          "height": 34
        },
        "outputId": "59ae7d51-f2fb-4577-ae83-142e7e59dc55"
      },
      "source": [
        "print(\"dimention of single document is :\",len(count_vector.get_feature_names()))"
      ],
      "execution_count": 12,
      "outputs": [
        {
          "output_type": "stream",
          "text": [
            "dimention of single document is : 10595852\n"
          ],
          "name": "stdout"
        }
      ]
    },
    {
      "cell_type": "markdown",
      "metadata": {
        "id": "DDJcaY71-yzN",
        "colab_type": "text"
      },
      "source": [
        "Tri-gram have highest dimension as compare to all previous approches."
      ]
    },
    {
      "cell_type": "code",
      "metadata": {
        "id": "L6B7NW1F-tMN",
        "colab_type": "code",
        "colab": {
          "base_uri": "https://localhost:8080/",
          "height": 281
        },
        "outputId": "9eabcef5-c721-435b-9bc2-1ac71d880634"
      },
      "source": [
        "from sklearn.metrics import confusion_matrix\n",
        "\n",
        "cnf = confusion_matrix(y_test,clf.predict(X_test_bow))\n",
        "sns.heatmap(cnf,annot=True,fmt='g',cmap=\"YlGnBu\");\n",
        "plt.title(\"BOW(count) Performace\");"
      ],
      "execution_count": 13,
      "outputs": [
        {
          "output_type": "display_data",
          "data": {
            "image/png": "[encoded data removed]",
            "text/plain": [
              "<Figure size 432x288 with 2 Axes>"
            ]
          },
          "metadata": {
            "tags": []
          }
        }
      ]
    },
    {
      "cell_type": "code",
      "metadata": {
        "id": "E_j5EQsy-_Xg",
        "colab_type": "code",
        "colab": {}
      },
      "source": [
        ""
      ],
      "execution_count": 0,
      "outputs": []
    }
  ]
}