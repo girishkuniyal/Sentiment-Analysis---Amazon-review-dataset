{
  "nbformat": 4,
  "nbformat_minor": 0,
  "metadata": {
    "colab": {
      "name": "Combined.ipynb",
      "version": "0.3.2",
      "provenance": []
    },
    "kernelspec": {
      "name": "python3",
      "display_name": "Python 3"
    }
  },
  "cells": [
    {
      "cell_type": "markdown",
      "metadata": {
        "id": "G5FU4dum_yaU",
        "colab_type": "text"
      },
      "source": [
        "# Combined Approch\n",
        "## Bag of words with Lemmatization and Bi-gram features"
      ]
    },
    {
      "cell_type": "code",
      "metadata": {
        "id": "5LReZGlG_pz8",
        "colab_type": "code",
        "colab": {}
      },
      "source": [
        "import pandas as pd \n",
        "import numpy as np\n",
        "import matplotlib.pyplot as plt\n",
        "import seaborn as sns"
      ],
      "execution_count": 0,
      "outputs": []
    },
    {
      "cell_type": "code",
      "metadata": {
        "id": "UQdh9wN9AMWW",
        "colab_type": "code",
        "colab": {}
      },
      "source": [
        "# load preprocessed text\n",
        "review_data = pd.read_pickle(\"review_data.pkl\")"
      ],
      "execution_count": 0,
      "outputs": []
    },
    {
      "cell_type": "code",
      "metadata": {
        "id": "244ADqyCAOnT",
        "colab_type": "code",
        "colab": {}
      },
      "source": [
        "# nltk installation\n",
        "\n",
        "!pip install nltk\n",
        "\n",
        "import nltk\n",
        "nltk.download('wordnet')"
      ],
      "execution_count": 0,
      "outputs": []
    },
    {
      "cell_type": "code",
      "metadata": {
        "id": "VraL3QJSAxG1",
        "colab_type": "code",
        "colab": {}
      },
      "source": [
        "from nltk.stem import WordNetLemmatizer\n",
        "from nltk.tokenize import word_tokenize\n",
        "\n",
        "lemmatizer = WordNetLemmatizer()"
      ],
      "execution_count": 0,
      "outputs": []
    },
    {
      "cell_type": "code",
      "metadata": {
        "id": "0b4snRLXAxuq",
        "colab_type": "code",
        "colab": {}
      },
      "source": [
        "def tokenize_lemmatize(review_data):\n",
        "  \"\"\"Takes input as pandas data frame with field name Text and return tokenize \n",
        "  and lemmatized list\"\"\"\n",
        "  X_data = []\n",
        "  for i in range(review_data.shape[0]):\n",
        "      token = word_tokenize(review_data.Text.iloc[i])\n",
        "      for i in range(len(token)):\n",
        "          token[i] = lemmatizer.lemmatize(token[i])\n",
        "      token = ' '.join(token)\n",
        "      X_data.append(token)\n",
        "  return X_data\n",
        " \n",
        "X_data = tokenize_lemmatize(review_data)\n"
      ],
      "execution_count": 0,
      "outputs": []
    },
    {
      "cell_type": "code",
      "metadata": {
        "id": "kgEPPVIlCD8U",
        "colab_type": "code",
        "colab": {
          "base_uri": "https://localhost:8080/",
          "height": 34
        },
        "outputId": "b367a83a-f7f1-4edf-9b6a-660760c564f5"
      },
      "source": [
        "# Stratified Test Train Spilt\n",
        "\n",
        "from sklearn.model_selection import train_test_split\n",
        "\n",
        "X_train,X_test,y_train,y_test = train_test_split(X_data,review_data.Sentiment,test_size=0.3,\n",
        "                                                 stratify=review_data.Sentiment,random_state=42)\n",
        "len(X_train)"
      ],
      "execution_count": 8,
      "outputs": [
        {
          "output_type": "execute_result",
          "data": {
            "text/plain": [
              "254914"
            ]
          },
          "metadata": {
            "tags": []
          },
          "execution_count": 8
        }
      ]
    },
    {
      "cell_type": "code",
      "metadata": {
        "id": "u1BHgYZJCMIP",
        "colab_type": "code",
        "colab": {
          "base_uri": "https://localhost:8080/",
          "height": 34
        },
        "outputId": "4b3b37fb-160a-4706-baa1-8d1d8f880f6b"
      },
      "source": [
        "#Creating BOW with Bi gram for our dataset\n",
        "\n",
        "from sklearn.feature_extraction.text import CountVectorizer\n",
        "\n",
        "count_vector = CountVectorizer(ngram_range=(1,2))\n",
        "final_counts = count_vector.fit_transform(X_train)\n",
        "print(final_counts.shape)\n",
        "# here final_counts is sparse representation of document"
      ],
      "execution_count": 9,
      "outputs": [
        {
          "output_type": "stream",
          "text": [
            "(254914, 2193130)\n"
          ],
          "name": "stdout"
        }
      ]
    },
    {
      "cell_type": "code",
      "metadata": {
        "id": "Tz63A39OC4JU",
        "colab_type": "code",
        "colab": {
          "base_uri": "https://localhost:8080/",
          "height": 34
        },
        "outputId": "071b2812-2eb6-4aca-8ee0-7d915ffa51f9"
      },
      "source": [
        "print(\"dimention of single document is :\",len(count_vector.get_feature_names()))"
      ],
      "execution_count": 10,
      "outputs": [
        {
          "output_type": "stream",
          "text": [
            "dimention of single document is : 2193130\n"
          ],
          "name": "stdout"
        }
      ]
    },
    {
      "cell_type": "code",
      "metadata": {
        "id": "e-RLC3jdC8gk",
        "colab_type": "code",
        "colab": {
          "base_uri": "https://localhost:8080/",
          "height": 52
        },
        "outputId": "9ef0b40c-c41f-44b8-9ca2-dc692a6366e2"
      },
      "source": [
        "# Naive Bayes Classifer\n",
        "from sklearn.naive_bayes import MultinomialNB\n",
        "\n",
        "clf =  MultinomialNB()\n",
        "clf.fit(final_counts,y_train)\n",
        "print(clf.score(final_counts,y_train))\n",
        "X_test_bow = count_vector.transform(X_test)\n",
        "print(clf.score(X_test_bow,y_test))"
      ],
      "execution_count": 11,
      "outputs": [
        {
          "output_type": "stream",
          "text": [
            "0.9593470739151243\n",
            "0.9121189931350114\n"
          ],
          "name": "stdout"
        }
      ]
    },
    {
      "cell_type": "code",
      "metadata": {
        "id": "I6tKZAsrDCiL",
        "colab_type": "code",
        "colab": {
          "base_uri": "https://localhost:8080/",
          "height": 281
        },
        "outputId": "321ec37e-9a7e-4ca5-a16c-55493d0faab4"
      },
      "source": [
        "from sklearn.metrics import confusion_matrix\n",
        "\n",
        "cnf = confusion_matrix(y_test,clf.predict(X_test_bow))\n",
        "sns.heatmap(cnf,annot=True,fmt='g',cmap=\"YlGnBu\");\n",
        "plt.title(\"BOW(count)with Lemmatization and Bi-gram Performace\");"
      ],
      "execution_count": 12,
      "outputs": [
        {
          "output_type": "display_data",
          "data": {
            "image/png": "[encoded data removed]",
            "text/plain": [
              "<Figure size 432x288 with 2 Axes>"
            ]
          },
          "metadata": {
            "tags": []
          }
        }
      ]
    },
    {
      "cell_type": "markdown",
      "metadata": {
        "id": "5lgQ0zK-DItV",
        "colab_type": "text"
      },
      "source": [
        "## Binary Bag of Words with lemmatization and Bi-gram features"
      ]
    },
    {
      "cell_type": "code",
      "metadata": {
        "id": "X44mQiUgDH0K",
        "colab_type": "code",
        "colab": {
          "base_uri": "https://localhost:8080/",
          "height": 34
        },
        "outputId": "fe1ebf08-305f-4d69-a927-98543a32ff58"
      },
      "source": [
        "#Creating Binary BOW with Lemmatization and Bi-gram features\n",
        "\n",
        "from sklearn.feature_extraction.text import CountVectorizer\n",
        "\n",
        "count_vector = CountVectorizer(ngram_range=(1,2),binary=True)\n",
        "final_counts = count_vector.fit_transform(X_train)\n",
        "print(final_counts.shape)\n",
        "# here final_counts is sparse representation of document"
      ],
      "execution_count": 13,
      "outputs": [
        {
          "output_type": "stream",
          "text": [
            "(254914, 2193130)\n"
          ],
          "name": "stdout"
        }
      ]
    },
    {
      "cell_type": "code",
      "metadata": {
        "id": "DxOdDmmnDqdy",
        "colab_type": "code",
        "colab": {
          "base_uri": "https://localhost:8080/",
          "height": 34
        },
        "outputId": "774d52e4-0bc3-4c2b-955f-cbce4114f1ad"
      },
      "source": [
        "print(\"dimention of single document is :\",len(count_vector.get_feature_names()))"
      ],
      "execution_count": 14,
      "outputs": [
        {
          "output_type": "stream",
          "text": [
            "dimention of single document is : 2193130\n"
          ],
          "name": "stdout"
        }
      ]
    },
    {
      "cell_type": "code",
      "metadata": {
        "id": "46fZ12zoDwnp",
        "colab_type": "code",
        "colab": {
          "base_uri": "https://localhost:8080/",
          "height": 52
        },
        "outputId": "40d65810-809e-4105-9400-bda87ec90911"
      },
      "source": [
        "# Naive Bayes Classifer\n",
        "from sklearn.naive_bayes import MultinomialNB\n",
        "\n",
        "clf =  MultinomialNB()\n",
        "clf.fit(final_counts,y_train)\n",
        "print(clf.score(final_counts,y_train))\n",
        "X_test_bow = count_vector.transform(X_test)\n",
        "print(clf.score(X_test_bow,y_test))"
      ],
      "execution_count": 15,
      "outputs": [
        {
          "output_type": "stream",
          "text": [
            "0.9590960088500435\n",
            "0.9082288329519451\n"
          ],
          "name": "stdout"
        }
      ]
    },
    {
      "cell_type": "code",
      "metadata": {
        "id": "uTPITA_kD9Ie",
        "colab_type": "code",
        "colab": {
          "base_uri": "https://localhost:8080/",
          "height": 281
        },
        "outputId": "733e9aa3-060f-4e88-bf2e-37cfcc91740d"
      },
      "source": [
        "from sklearn.metrics import confusion_matrix\n",
        "\n",
        "cnf = confusion_matrix(y_test,clf.predict(X_test_bow))\n",
        "sns.heatmap(cnf,annot=True,fmt='g',cmap=\"YlGnBu\");\n",
        "plt.title(\"BOW(binary) with Lemmatization and Bi-gram Performace\");"
      ],
      "execution_count": 16,
      "outputs": [
        {
          "output_type": "display_data",
          "data": {
            "image/png": "[encoded data removed]",
            "text/plain": [
              "<Figure size 432x288 with 2 Axes>"
            ]
          },
          "metadata": {
            "tags": []
          }
        }
      ]
    },
    {
      "cell_type": "code",
      "metadata": {
        "id": "LvcAt2h0EMMV",
        "colab_type": "code",
        "colab": {}
      },
      "source": [
        ""
      ],
      "execution_count": 0,
      "outputs": []
    }
  ]
}