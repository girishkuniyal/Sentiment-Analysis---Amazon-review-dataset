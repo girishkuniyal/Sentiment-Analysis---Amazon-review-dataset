{
  "nbformat": 4,
  "nbformat_minor": 0,
  "metadata": {
    "colab": {
      "name": "Bag of Words.ipynb",
      "version": "0.3.2",
      "provenance": []
    },
    "kernelspec": {
      "name": "python3",
      "display_name": "Python 3"
    }
  },
  "cells": [
    {
      "cell_type": "code",
      "metadata": {
        "id": "1vHVLaYdt048",
        "colab_type": "code",
        "colab": {}
      },
      "source": [
        "import pandas as pd \n",
        "import numpy as np\n",
        "import matplotlib.pyplot as plt\n",
        "import seaborn as sns\n"
      ],
      "execution_count": 0,
      "outputs": []
    },
    {
      "cell_type": "code",
      "metadata": {
        "id": "yaowjZaAuTS-",
        "colab_type": "code",
        "colab": {}
      },
      "source": [
        "review_data = pd.read_pickle(\"review_data.pkl\")"
      ],
      "execution_count": 0,
      "outputs": []
    },
    {
      "cell_type": "code",
      "metadata": {
        "id": "2OF0IjKFubR_",
        "colab_type": "code",
        "colab": {
          "base_uri": "https://localhost:8080/",
          "height": 34
        },
        "outputId": "ca87fd41-004d-4c08-e137-408ac40fe170"
      },
      "source": [
        "# Stratified Test Train Spilt\n",
        "\n",
        "from sklearn.model_selection import train_test_split\n",
        "X_train,X_test,y_train,y_test = train_test_split(review_data.Text,review_data.Sentiment,\n",
        "                                                 test_size=0.3,stratify=review_data.Sentiment,\n",
        "                                                 random_state=42)\n",
        "X_train.shape"
      ],
      "execution_count": 3,
      "outputs": [
        {
          "output_type": "execute_result",
          "data": {
            "text/plain": [
              "(254914,)"
            ]
          },
          "metadata": {
            "tags": []
          },
          "execution_count": 3
        }
      ]
    },
    {
      "cell_type": "code",
      "metadata": {
        "id": "mu6nm1pzuoGt",
        "colab_type": "code",
        "colab": {
          "base_uri": "https://localhost:8080/",
          "height": 34
        },
        "outputId": "0cf952cc-79a4-471d-c78a-564d251a4125"
      },
      "source": [
        "#Creating Bag of words(count) for our dataset\n",
        "\n",
        "from sklearn.feature_extraction.text import CountVectorizer\n",
        "\n",
        "count_vector = CountVectorizer()\n",
        "final_counts = count_vector.fit_transform(X_train.values)\n",
        "print(final_counts.shape)\n",
        "# here final_counts is sparse representation of document"
      ],
      "execution_count": 4,
      "outputs": [
        {
          "output_type": "stream",
          "text": [
            "(254914, 96703)\n"
          ],
          "name": "stdout"
        }
      ]
    },
    {
      "cell_type": "code",
      "metadata": {
        "id": "RlbsIgF7uyjY",
        "colab_type": "code",
        "colab": {
          "base_uri": "https://localhost:8080/",
          "height": 364
        },
        "outputId": "2339858d-7ab2-4674-a686-2b8a349bc6d9"
      },
      "source": [
        "# dictinary created by corpus\n",
        "\n",
        "count_vector.get_feature_names()[-100:-120:-1]"
      ],
      "execution_count": 5,
      "outputs": [
        {
          "output_type": "execute_result",
          "data": {
            "text/plain": [
              "['zoie',\n",
              " 'zoid',\n",
              " 'zohan',\n",
              " 'zofchak',\n",
              " 'zoey',\n",
              " 'zoethout',\n",
              " 'zoeie',\n",
              " 'zoegas',\n",
              " 'zoe',\n",
              " 'zodiac',\n",
              " 'zocor',\n",
              " 'zo',\n",
              " 'znaturalfoods',\n",
              " 'zn',\n",
              " 'zmtsa',\n",
              " 'zloty',\n",
              " 'zizzer',\n",
              " 'ziyad',\n",
              " 'ziwkpeak',\n",
              " 'ziwipeaks']"
            ]
          },
          "metadata": {
            "tags": []
          },
          "execution_count": 5
        }
      ]
    },
    {
      "cell_type": "code",
      "metadata": {
        "id": "RfdzGTvwu6Cg",
        "colab_type": "code",
        "colab": {
          "base_uri": "https://localhost:8080/",
          "height": 34
        },
        "outputId": "bb5f84e0-d1fe-4a62-8029-ba9544a7c805"
      },
      "source": [
        "print(\"dimention of single document is :\",len(count_vector.get_feature_names()))"
      ],
      "execution_count": 10,
      "outputs": [
        {
          "output_type": "stream",
          "text": [
            "dimention of single document is : 96703\n"
          ],
          "name": "stdout"
        }
      ]
    },
    {
      "cell_type": "markdown",
      "metadata": {
        "id": "CO2504Tsvn_J",
        "colab_type": "text"
      },
      "source": [
        "**Conclusion** : Our BOW represention of document is sparse and have very very large dimention\n",
        "The dimensionality can be imporved by using method like stemming,remove stop words etc."
      ]
    },
    {
      "cell_type": "code",
      "metadata": {
        "id": "BLBwPnZtu_ob",
        "colab_type": "code",
        "colab": {
          "base_uri": "https://localhost:8080/",
          "height": 52
        },
        "outputId": "fc6de372-451f-4265-bfc0-6715ac620e53"
      },
      "source": [
        "# Naive bayes as classifier \n",
        "\n",
        "from sklearn.naive_bayes import MultinomialNB\n",
        "\n",
        "clf =  MultinomialNB()\n",
        "clf.fit(final_counts,y_train)\n",
        "print(clf.score(final_counts,y_train))\n",
        "X_test_bow = count_vector.transform(X_test)\n",
        "print(clf.score(X_test_bow,y_test))"
      ],
      "execution_count": 12,
      "outputs": [
        {
          "output_type": "stream",
          "text": [
            "0.9176271213036553\n",
            "0.9099221967963387\n"
          ],
          "name": "stdout"
        }
      ]
    },
    {
      "cell_type": "code",
      "metadata": {
        "id": "Pm8Mt0QUvWMO",
        "colab_type": "code",
        "colab": {
          "base_uri": "https://localhost:8080/",
          "height": 281
        },
        "outputId": "8fefcb4d-fe29-46ed-b314-ab96e6441d61"
      },
      "source": [
        "from sklearn.metrics import confusion_matrix\n",
        "\n",
        "cnf = confusion_matrix(y_test,clf.predict(X_test_bow))\n",
        "sns.heatmap(cnf,annot=True,fmt='g',cmap=\"YlGnBu\");\n",
        "plt.title(\"BOW(count) Performace\");"
      ],
      "execution_count": 13,
      "outputs": [
        {
          "output_type": "display_data",
          "data": {
            "image/png": "[encoded data removed]",
            "text/plain": [
              "<Figure size 432x288 with 2 Axes>"
            ]
          },
          "metadata": {
            "tags": []
          }
        }
      ]
    },
    {
      "cell_type": "code",
      "metadata": {
        "id": "WudbvYSCwZDU",
        "colab_type": "code",
        "colab": {}
      },
      "source": [
        ""
      ],
      "execution_count": 0,
      "outputs": []
    }
  ]
}