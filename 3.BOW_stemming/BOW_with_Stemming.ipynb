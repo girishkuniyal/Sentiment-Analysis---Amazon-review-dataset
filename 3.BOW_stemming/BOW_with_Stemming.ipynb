{
  "nbformat": 4,
  "nbformat_minor": 0,
  "metadata": {
    "colab": {
      "name": "BOW with Stemming.ipynb",
      "version": "0.3.2",
      "provenance": []
    },
    "kernelspec": {
      "name": "python3",
      "display_name": "Python 3"
    }
  },
  "cells": [
    {
      "cell_type": "markdown",
      "metadata": {
        "id": "ChuFNP6Ow6qb",
        "colab_type": "text"
      },
      "source": [
        "# Bag of Words with Stemming"
      ]
    },
    {
      "cell_type": "code",
      "metadata": {
        "id": "RwNQYinVwk6T",
        "colab_type": "code",
        "colab": {}
      },
      "source": [
        "import pandas as pd \n",
        "import numpy as np\n",
        "import matplotlib.pyplot as plt\n",
        "import seaborn as sns\n"
      ],
      "execution_count": 0,
      "outputs": []
    },
    {
      "cell_type": "code",
      "metadata": {
        "id": "KFXUtMa9xF_B",
        "colab_type": "code",
        "colab": {}
      },
      "source": [
        "review_data = pd.read_pickle(\"review_data.pkl\")"
      ],
      "execution_count": 0,
      "outputs": []
    },
    {
      "cell_type": "code",
      "metadata": {
        "id": "PuYV17UQyLhn",
        "colab_type": "code",
        "colab": {}
      },
      "source": [
        "# nltk installation\n",
        "\n",
        "!pip install nltk\n",
        "\n",
        "import nltk\n",
        "nltk.download('punkt')"
      ],
      "execution_count": 0,
      "outputs": []
    },
    {
      "cell_type": "code",
      "metadata": {
        "id": "dWu0G04qxI2M",
        "colab_type": "code",
        "colab": {}
      },
      "source": [
        "from nltk.stem import PorterStemmer\n",
        "from nltk.tokenize import word_tokenize\n",
        "\n",
        "stemmer = PorterStemmer()"
      ],
      "execution_count": 0,
      "outputs": []
    },
    {
      "cell_type": "code",
      "metadata": {
        "id": "sjIEKdFfxLrW",
        "colab_type": "code",
        "colab": {}
      },
      "source": [
        "def tokenize_stemming(review_data):\n",
        "  \"\"\"Takes input as pandas data frame with field name Text and return tokenize \n",
        "  and stemmming list\"\"\"\n",
        "  # Takes some time to execute like 30 minute etc.\n",
        "  X_data = []\n",
        "  for i in range(review_data.shape[0]):\n",
        "      token = word_tokenize(review_data.Text.iloc[i])\n",
        "      for i in range(len(token)):\n",
        "          token[i] = stemmer.stem(token[i])\n",
        "      token = ' '.join(token)\n",
        "      X_data.append(token)\n",
        "  return X_data\n",
        "\n",
        "X_data = tokenize_stemming(review_data)\n",
        "\n",
        "\n",
        "    \n",
        "    "
      ],
      "execution_count": 0,
      "outputs": []
    },
    {
      "cell_type": "code",
      "metadata": {
        "id": "iO5NK0a3zxA8",
        "colab_type": "code",
        "colab": {
          "base_uri": "https://localhost:8080/",
          "height": 34
        },
        "outputId": "d080bd2e-b147-41cc-b55c-3bc6025695ae"
      },
      "source": [
        "# Stratified Test Train Spilt\n",
        "\n",
        "from sklearn.model_selection import train_test_split\n",
        "\n",
        "X_train,X_test,y_train,y_test = train_test_split(X_data,review_data.Sentiment,\n",
        "                                                 test_size=0.3,stratify=review_data.Sentiment,\n",
        "                                                 random_state=42)\n",
        "len(X_train)"
      ],
      "execution_count": 13,
      "outputs": [
        {
          "output_type": "execute_result",
          "data": {
            "text/plain": [
              "254914"
            ]
          },
          "metadata": {
            "tags": []
          },
          "execution_count": 13
        }
      ]
    },
    {
      "cell_type": "code",
      "metadata": {
        "id": "SNeoaP4Yx8tw",
        "colab_type": "code",
        "colab": {
          "base_uri": "https://localhost:8080/",
          "height": 34
        },
        "outputId": "851192d4-e4fa-4471-ea75-36b8012f248f"
      },
      "source": [
        "#Creating Count BOW for our dataset\n",
        "\n",
        "from sklearn.feature_extraction.text import CountVectorizer\n",
        "\n",
        "count_vector = CountVectorizer()\n",
        "final_counts = count_vector.fit_transform(X_train)\n",
        "print(final_counts.shape)\n",
        "# here final_counts is sparse representation of document"
      ],
      "execution_count": 14,
      "outputs": [
        {
          "output_type": "stream",
          "text": [
            "(254914, 78542)\n"
          ],
          "name": "stdout"
        }
      ]
    },
    {
      "cell_type": "code",
      "metadata": {
        "id": "R0CRRLCo0GcB",
        "colab_type": "code",
        "colab": {
          "base_uri": "https://localhost:8080/",
          "height": 34
        },
        "outputId": "5066b175-f643-442c-f4ac-076b0b5fa799"
      },
      "source": [
        "print(\"dimention of single document is :\",len(count_vector.get_feature_names()))"
      ],
      "execution_count": 15,
      "outputs": [
        {
          "output_type": "stream",
          "text": [
            "dimention of single document is : 78542\n"
          ],
          "name": "stdout"
        }
      ]
    },
    {
      "cell_type": "markdown",
      "metadata": {
        "id": "5wEXJIAV0ZN9",
        "colab_type": "text"
      },
      "source": [
        "* **Conclusion** : BOW with stemming gives less feature dimension as compare to simple BOW."
      ]
    },
    {
      "cell_type": "code",
      "metadata": {
        "id": "8KtHe11i0YSM",
        "colab_type": "code",
        "colab": {
          "base_uri": "https://localhost:8080/",
          "height": 52
        },
        "outputId": "17700195-6e40-4eb5-8139-ec4e9514d0ae"
      },
      "source": [
        "# Naive Bayes Classifier\n",
        "\n",
        "from sklearn.naive_bayes import MultinomialNB\n",
        "\n",
        "clf =  MultinomialNB()\n",
        "clf.fit(final_counts,y_train)\n",
        "print(clf.score(final_counts,y_train))\n",
        "X_test_bow = count_vector.transform(X_test)\n",
        "print(clf.score(X_test_bow,y_test))"
      ],
      "execution_count": 16,
      "outputs": [
        {
          "output_type": "stream",
          "text": [
            "0.9125548224106954\n",
            "0.9051716247139588\n"
          ],
          "name": "stdout"
        }
      ]
    },
    {
      "cell_type": "markdown",
      "metadata": {
        "id": "5qY5JCeL1Bn2",
        "colab_type": "text"
      },
      "source": [
        "* **Conclusion** : BOW with stemming Gives similar result to  *BOW*  but *BOW with stemming*   has little less dimension."
      ]
    },
    {
      "cell_type": "code",
      "metadata": {
        "id": "FQiZXD-b0sDN",
        "colab_type": "code",
        "colab": {
          "base_uri": "https://localhost:8080/",
          "height": 281
        },
        "outputId": "0105a727-03a9-4335-dd3b-559d71067fc5"
      },
      "source": [
        "from sklearn.metrics import confusion_matrix\n",
        "\n",
        "cnf = confusion_matrix(y_test,clf.predict(X_test_bow))\n",
        "sns.heatmap(cnf,annot=True,fmt='g',cmap=\"YlGnBu\");\n",
        "plt.title(\"BOW(count) with Stemming Performace\");"
      ],
      "execution_count": 17,
      "outputs": [
        {
          "output_type": "display_data",
          "data": {
            "image/png": "[encoded data removed]",
            "text/plain": [
              "<Figure size 432x288 with 2 Axes>"
            ]
          },
          "metadata": {
            "tags": []
          }
        }
      ]
    },
    {
      "cell_type": "code",
      "metadata": {
        "id": "A5SlnZZB1PHB",
        "colab_type": "code",
        "colab": {}
      },
      "source": [
        ""
      ],
      "execution_count": 0,
      "outputs": []
    }
  ]
}